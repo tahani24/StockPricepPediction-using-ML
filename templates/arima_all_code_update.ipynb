{
  "cells": [
    {
      "cell_type": "code",
      "execution_count": 2,
      "id": "PmfWmv4Z1djr",
      "metadata": {
        "colab": {
          "base_uri": "https://localhost:8080/"
        },
        "execution": {
          "iopub.execute_input": "2024-02-13T00:24:28.996931Z",
          "iopub.status.busy": "2024-02-13T00:24:28.996123Z",
          "iopub.status.idle": "2024-02-13T00:24:29.001001Z",
          "shell.execute_reply": "2024-02-13T00:24:29.000147Z",
          "shell.execute_reply.started": "2024-02-13T00:24:28.996897Z"
        },
        "id": "PmfWmv4Z1djr",
        "outputId": "1f6915cc-97ec-4e45-df60-cf2988811921",
        "trusted": true
      },
      "outputs": [],
      "source": [
        "#from google.colab import drive\n",
        "#drive.mount('/content/drive')"
      ]
    },
    {
      "cell_type": "code",
      "execution_count": 3,
      "id": "KvXy7Fx6CiVT",
      "metadata": {
        "colab": {
          "base_uri": "https://localhost:8080/"
        },
        "execution": {
          "iopub.execute_input": "2024-02-13T00:24:33.915903Z",
          "iopub.status.busy": "2024-02-13T00:24:33.915211Z",
          "iopub.status.idle": "2024-02-13T00:24:47.711555Z",
          "shell.execute_reply": "2024-02-13T00:24:47.710600Z",
          "shell.execute_reply.started": "2024-02-13T00:24:33.915870Z"
        },
        "id": "KvXy7Fx6CiVT",
        "outputId": "fe622e74-3e1d-4748-8159-b6865a131b77",
        "trusted": true
      },
      "outputs": [
        {
          "name": "stdout",
          "output_type": "stream",
          "text": [
            "Requirement already satisfied: pmdarima in /opt/homebrew/lib/python3.12/site-packages (2.0.4)\n",
            "Requirement already satisfied: joblib>=0.11 in /opt/homebrew/lib/python3.12/site-packages (from pmdarima) (1.4.0)\n",
            "Requirement already satisfied: Cython!=0.29.18,!=0.29.31,>=0.29 in /opt/homebrew/lib/python3.12/site-packages (from pmdarima) (3.0.10)\n",
            "Requirement already satisfied: numpy>=1.21.2 in /opt/homebrew/lib/python3.12/site-packages (from pmdarima) (1.26.4)\n",
            "Requirement already satisfied: pandas>=0.19 in /opt/homebrew/lib/python3.12/site-packages (from pmdarima) (2.2.2)\n",
            "Requirement already satisfied: scikit-learn>=0.22 in /opt/homebrew/lib/python3.12/site-packages (from pmdarima) (1.4.2)\n",
            "Requirement already satisfied: scipy>=1.3.2 in /opt/homebrew/lib/python3.12/site-packages (from pmdarima) (1.13.0)\n",
            "Requirement already satisfied: statsmodels>=0.13.2 in /opt/homebrew/lib/python3.12/site-packages (from pmdarima) (0.14.1)\n",
            "Requirement already satisfied: urllib3 in /opt/homebrew/lib/python3.12/site-packages (from pmdarima) (2.2.1)\n",
            "Requirement already satisfied: setuptools!=50.0.0,>=38.6.0 in /opt/homebrew/lib/python3.12/site-packages (from pmdarima) (69.5.1)\n",
            "Requirement already satisfied: packaging>=17.1 in /Users/fahadzuhair/Library/Python/3.12/lib/python/site-packages (from pmdarima) (24.0)\n",
            "Requirement already satisfied: python-dateutil>=2.8.2 in /Users/fahadzuhair/Library/Python/3.12/lib/python/site-packages (from pandas>=0.19->pmdarima) (2.9.0.post0)\n",
            "Requirement already satisfied: pytz>=2020.1 in /opt/homebrew/lib/python3.12/site-packages (from pandas>=0.19->pmdarima) (2024.1)\n",
            "Requirement already satisfied: tzdata>=2022.7 in /opt/homebrew/lib/python3.12/site-packages (from pandas>=0.19->pmdarima) (2024.1)\n",
            "Requirement already satisfied: threadpoolctl>=2.0.0 in /opt/homebrew/lib/python3.12/site-packages (from scikit-learn>=0.22->pmdarima) (3.4.0)\n",
            "Requirement already satisfied: patsy>=0.5.4 in /opt/homebrew/lib/python3.12/site-packages (from statsmodels>=0.13.2->pmdarima) (0.5.6)\n",
            "Requirement already satisfied: six in /Users/fahadzuhair/Library/Python/3.12/lib/python/site-packages (from patsy>=0.5.4->statsmodels>=0.13.2->pmdarima) (1.16.0)\n"
          ]
        }
      ],
      "source": [
        "!pip3 install pmdarima --break-system-packages"
      ]
    },
    {
      "cell_type": "code",
      "execution_count": 4,
      "id": "z0X6E53Q1oQo",
      "metadata": {
        "execution": {
          "iopub.execute_input": "2024-02-13T00:24:50.359381Z",
          "iopub.status.busy": "2024-02-13T00:24:50.358992Z",
          "iopub.status.idle": "2024-02-13T00:24:51.716647Z",
          "shell.execute_reply": "2024-02-13T00:24:51.715649Z",
          "shell.execute_reply.started": "2024-02-13T00:24:50.359348Z"
        },
        "id": "z0X6E53Q1oQo",
        "trusted": true
      },
      "outputs": [],
      "source": [
        "import os\n",
        "import warnings\n",
        "warnings.filterwarnings('ignore')\n",
        "import numpy as np\n",
        "import pandas as pd\n",
        "import seaborn as sns\n",
        "import matplotlib.pyplot as plt\n",
        "from statsmodels.tsa.stattools import adfuller\n",
        "from statsmodels.tsa.seasonal import seasonal_decompose\n",
        "from statsmodels.tsa.arima_model import ARIMA\n",
        "from sklearn.metrics import mean_squared_error, mean_absolute_error\n",
        "import math\n"
      ]
    },
    {
      "cell_type": "markdown",
      "id": "My00d7giJHxv",
      "metadata": {
        "id": "My00d7giJHxv"
      },
      "source": [
        "**Load and Preprocess Data**"
      ]
    },
    {
      "cell_type": "code",
      "execution_count": 5,
      "id": "mKoK1xYX0ifw",
      "metadata": {
        "colab": {
          "base_uri": "https://localhost:8080/",
          "height": 35
        },
        "execution": {
          "iopub.execute_input": "2024-02-13T00:24:57.669020Z",
          "iopub.status.busy": "2024-02-13T00:24:57.667893Z",
          "iopub.status.idle": "2024-02-13T00:24:57.675663Z",
          "shell.execute_reply": "2024-02-13T00:24:57.674729Z",
          "shell.execute_reply.started": "2024-02-13T00:24:57.668987Z"
        },
        "id": "mKoK1xYX0ifw",
        "outputId": "7521b55f-5be5-4397-8d57-9db258cb2e7b",
        "trusted": true
      },
      "outputs": [
        {
          "data": {
            "text/plain": [
              "'/Users/fahadzuhair/Downloads/project_server_code/templates'"
            ]
          },
          "execution_count": 5,
          "metadata": {},
          "output_type": "execute_result"
        }
      ],
      "source": [
        "import os\n",
        "os.getcwd()"
      ]
    },
    {
      "cell_type": "code",
      "execution_count": 6,
      "id": "y4QSGzmGBLKK",
      "metadata": {
        "execution": {
          "iopub.execute_input": "2024-02-13T00:25:01.204546Z",
          "iopub.status.busy": "2024-02-13T00:25:01.204192Z",
          "iopub.status.idle": "2024-02-13T00:25:01.208800Z",
          "shell.execute_reply": "2024-02-13T00:25:01.207897Z",
          "shell.execute_reply.started": "2024-02-13T00:25:01.204518Z"
        },
        "id": "y4QSGzmGBLKK",
        "trusted": true
      },
      "outputs": [],
      "source": [
        "filename = '/content/drive/MyDrive/stock_price_prediction/filtered_stock_data.csv'\n",
        "# filename = '/kaggle/input/filtered-stock-data/filtered_stock_data.csv'\n",
        "\n",
        "\n"
      ]
    },
    {
      "cell_type": "code",
      "execution_count": 7,
      "id": "gn0O9l_nRNcw",
      "metadata": {
        "execution": {
          "iopub.execute_input": "2024-02-13T00:25:04.813979Z",
          "iopub.status.busy": "2024-02-13T00:25:04.813624Z",
          "iopub.status.idle": "2024-02-13T00:25:05.529090Z",
          "shell.execute_reply": "2024-02-13T00:25:05.528121Z",
          "shell.execute_reply.started": "2024-02-13T00:25:04.813950Z"
        },
        "id": "gn0O9l_nRNcw",
        "trusted": true
      },
      "outputs": [
        {
          "ename": "FileNotFoundError",
          "evalue": "[Errno 2] No such file or directory: '/content/drive/MyDrive/stock_price_prediction/filtered_stock_data.csv'",
          "output_type": "error",
          "traceback": [
            "\u001b[0;31m---------------------------------------------------------------------------\u001b[0m",
            "\u001b[0;31mFileNotFoundError\u001b[0m                         Traceback (most recent call last)",
            "Cell \u001b[0;32mIn[7], line 1\u001b[0m\n\u001b[0;32m----> 1\u001b[0m df\u001b[38;5;241m=\u001b[39m\u001b[43mpd\u001b[49m\u001b[38;5;241;43m.\u001b[39;49m\u001b[43mread_csv\u001b[49m\u001b[43m(\u001b[49m\u001b[43mfilename\u001b[49m\u001b[43m)\u001b[49m\n",
            "File \u001b[0;32m/opt/homebrew/lib/python3.12/site-packages/pandas/io/parsers/readers.py:1026\u001b[0m, in \u001b[0;36mread_csv\u001b[0;34m(filepath_or_buffer, sep, delimiter, header, names, index_col, usecols, dtype, engine, converters, true_values, false_values, skipinitialspace, skiprows, skipfooter, nrows, na_values, keep_default_na, na_filter, verbose, skip_blank_lines, parse_dates, infer_datetime_format, keep_date_col, date_parser, date_format, dayfirst, cache_dates, iterator, chunksize, compression, thousands, decimal, lineterminator, quotechar, quoting, doublequote, escapechar, comment, encoding, encoding_errors, dialect, on_bad_lines, delim_whitespace, low_memory, memory_map, float_precision, storage_options, dtype_backend)\u001b[0m\n\u001b[1;32m   1013\u001b[0m kwds_defaults \u001b[38;5;241m=\u001b[39m _refine_defaults_read(\n\u001b[1;32m   1014\u001b[0m     dialect,\n\u001b[1;32m   1015\u001b[0m     delimiter,\n\u001b[0;32m   (...)\u001b[0m\n\u001b[1;32m   1022\u001b[0m     dtype_backend\u001b[38;5;241m=\u001b[39mdtype_backend,\n\u001b[1;32m   1023\u001b[0m )\n\u001b[1;32m   1024\u001b[0m kwds\u001b[38;5;241m.\u001b[39mupdate(kwds_defaults)\n\u001b[0;32m-> 1026\u001b[0m \u001b[38;5;28;01mreturn\u001b[39;00m \u001b[43m_read\u001b[49m\u001b[43m(\u001b[49m\u001b[43mfilepath_or_buffer\u001b[49m\u001b[43m,\u001b[49m\u001b[43m \u001b[49m\u001b[43mkwds\u001b[49m\u001b[43m)\u001b[49m\n",
            "File \u001b[0;32m/opt/homebrew/lib/python3.12/site-packages/pandas/io/parsers/readers.py:620\u001b[0m, in \u001b[0;36m_read\u001b[0;34m(filepath_or_buffer, kwds)\u001b[0m\n\u001b[1;32m    617\u001b[0m _validate_names(kwds\u001b[38;5;241m.\u001b[39mget(\u001b[38;5;124m\"\u001b[39m\u001b[38;5;124mnames\u001b[39m\u001b[38;5;124m\"\u001b[39m, \u001b[38;5;28;01mNone\u001b[39;00m))\n\u001b[1;32m    619\u001b[0m \u001b[38;5;66;03m# Create the parser.\u001b[39;00m\n\u001b[0;32m--> 620\u001b[0m parser \u001b[38;5;241m=\u001b[39m \u001b[43mTextFileReader\u001b[49m\u001b[43m(\u001b[49m\u001b[43mfilepath_or_buffer\u001b[49m\u001b[43m,\u001b[49m\u001b[43m \u001b[49m\u001b[38;5;241;43m*\u001b[39;49m\u001b[38;5;241;43m*\u001b[39;49m\u001b[43mkwds\u001b[49m\u001b[43m)\u001b[49m\n\u001b[1;32m    622\u001b[0m \u001b[38;5;28;01mif\u001b[39;00m chunksize \u001b[38;5;129;01mor\u001b[39;00m iterator:\n\u001b[1;32m    623\u001b[0m     \u001b[38;5;28;01mreturn\u001b[39;00m parser\n",
            "File \u001b[0;32m/opt/homebrew/lib/python3.12/site-packages/pandas/io/parsers/readers.py:1620\u001b[0m, in \u001b[0;36mTextFileReader.__init__\u001b[0;34m(self, f, engine, **kwds)\u001b[0m\n\u001b[1;32m   1617\u001b[0m     \u001b[38;5;28mself\u001b[39m\u001b[38;5;241m.\u001b[39moptions[\u001b[38;5;124m\"\u001b[39m\u001b[38;5;124mhas_index_names\u001b[39m\u001b[38;5;124m\"\u001b[39m] \u001b[38;5;241m=\u001b[39m kwds[\u001b[38;5;124m\"\u001b[39m\u001b[38;5;124mhas_index_names\u001b[39m\u001b[38;5;124m\"\u001b[39m]\n\u001b[1;32m   1619\u001b[0m \u001b[38;5;28mself\u001b[39m\u001b[38;5;241m.\u001b[39mhandles: IOHandles \u001b[38;5;241m|\u001b[39m \u001b[38;5;28;01mNone\u001b[39;00m \u001b[38;5;241m=\u001b[39m \u001b[38;5;28;01mNone\u001b[39;00m\n\u001b[0;32m-> 1620\u001b[0m \u001b[38;5;28mself\u001b[39m\u001b[38;5;241m.\u001b[39m_engine \u001b[38;5;241m=\u001b[39m \u001b[38;5;28;43mself\u001b[39;49m\u001b[38;5;241;43m.\u001b[39;49m\u001b[43m_make_engine\u001b[49m\u001b[43m(\u001b[49m\u001b[43mf\u001b[49m\u001b[43m,\u001b[49m\u001b[43m \u001b[49m\u001b[38;5;28;43mself\u001b[39;49m\u001b[38;5;241;43m.\u001b[39;49m\u001b[43mengine\u001b[49m\u001b[43m)\u001b[49m\n",
            "File \u001b[0;32m/opt/homebrew/lib/python3.12/site-packages/pandas/io/parsers/readers.py:1880\u001b[0m, in \u001b[0;36mTextFileReader._make_engine\u001b[0;34m(self, f, engine)\u001b[0m\n\u001b[1;32m   1878\u001b[0m     \u001b[38;5;28;01mif\u001b[39;00m \u001b[38;5;124m\"\u001b[39m\u001b[38;5;124mb\u001b[39m\u001b[38;5;124m\"\u001b[39m \u001b[38;5;129;01mnot\u001b[39;00m \u001b[38;5;129;01min\u001b[39;00m mode:\n\u001b[1;32m   1879\u001b[0m         mode \u001b[38;5;241m+\u001b[39m\u001b[38;5;241m=\u001b[39m \u001b[38;5;124m\"\u001b[39m\u001b[38;5;124mb\u001b[39m\u001b[38;5;124m\"\u001b[39m\n\u001b[0;32m-> 1880\u001b[0m \u001b[38;5;28mself\u001b[39m\u001b[38;5;241m.\u001b[39mhandles \u001b[38;5;241m=\u001b[39m \u001b[43mget_handle\u001b[49m\u001b[43m(\u001b[49m\n\u001b[1;32m   1881\u001b[0m \u001b[43m    \u001b[49m\u001b[43mf\u001b[49m\u001b[43m,\u001b[49m\n\u001b[1;32m   1882\u001b[0m \u001b[43m    \u001b[49m\u001b[43mmode\u001b[49m\u001b[43m,\u001b[49m\n\u001b[1;32m   1883\u001b[0m \u001b[43m    \u001b[49m\u001b[43mencoding\u001b[49m\u001b[38;5;241;43m=\u001b[39;49m\u001b[38;5;28;43mself\u001b[39;49m\u001b[38;5;241;43m.\u001b[39;49m\u001b[43moptions\u001b[49m\u001b[38;5;241;43m.\u001b[39;49m\u001b[43mget\u001b[49m\u001b[43m(\u001b[49m\u001b[38;5;124;43m\"\u001b[39;49m\u001b[38;5;124;43mencoding\u001b[39;49m\u001b[38;5;124;43m\"\u001b[39;49m\u001b[43m,\u001b[49m\u001b[43m \u001b[49m\u001b[38;5;28;43;01mNone\u001b[39;49;00m\u001b[43m)\u001b[49m\u001b[43m,\u001b[49m\n\u001b[1;32m   1884\u001b[0m \u001b[43m    \u001b[49m\u001b[43mcompression\u001b[49m\u001b[38;5;241;43m=\u001b[39;49m\u001b[38;5;28;43mself\u001b[39;49m\u001b[38;5;241;43m.\u001b[39;49m\u001b[43moptions\u001b[49m\u001b[38;5;241;43m.\u001b[39;49m\u001b[43mget\u001b[49m\u001b[43m(\u001b[49m\u001b[38;5;124;43m\"\u001b[39;49m\u001b[38;5;124;43mcompression\u001b[39;49m\u001b[38;5;124;43m\"\u001b[39;49m\u001b[43m,\u001b[49m\u001b[43m \u001b[49m\u001b[38;5;28;43;01mNone\u001b[39;49;00m\u001b[43m)\u001b[49m\u001b[43m,\u001b[49m\n\u001b[1;32m   1885\u001b[0m \u001b[43m    \u001b[49m\u001b[43mmemory_map\u001b[49m\u001b[38;5;241;43m=\u001b[39;49m\u001b[38;5;28;43mself\u001b[39;49m\u001b[38;5;241;43m.\u001b[39;49m\u001b[43moptions\u001b[49m\u001b[38;5;241;43m.\u001b[39;49m\u001b[43mget\u001b[49m\u001b[43m(\u001b[49m\u001b[38;5;124;43m\"\u001b[39;49m\u001b[38;5;124;43mmemory_map\u001b[39;49m\u001b[38;5;124;43m\"\u001b[39;49m\u001b[43m,\u001b[49m\u001b[43m \u001b[49m\u001b[38;5;28;43;01mFalse\u001b[39;49;00m\u001b[43m)\u001b[49m\u001b[43m,\u001b[49m\n\u001b[1;32m   1886\u001b[0m \u001b[43m    \u001b[49m\u001b[43mis_text\u001b[49m\u001b[38;5;241;43m=\u001b[39;49m\u001b[43mis_text\u001b[49m\u001b[43m,\u001b[49m\n\u001b[1;32m   1887\u001b[0m \u001b[43m    \u001b[49m\u001b[43merrors\u001b[49m\u001b[38;5;241;43m=\u001b[39;49m\u001b[38;5;28;43mself\u001b[39;49m\u001b[38;5;241;43m.\u001b[39;49m\u001b[43moptions\u001b[49m\u001b[38;5;241;43m.\u001b[39;49m\u001b[43mget\u001b[49m\u001b[43m(\u001b[49m\u001b[38;5;124;43m\"\u001b[39;49m\u001b[38;5;124;43mencoding_errors\u001b[39;49m\u001b[38;5;124;43m\"\u001b[39;49m\u001b[43m,\u001b[49m\u001b[43m \u001b[49m\u001b[38;5;124;43m\"\u001b[39;49m\u001b[38;5;124;43mstrict\u001b[39;49m\u001b[38;5;124;43m\"\u001b[39;49m\u001b[43m)\u001b[49m\u001b[43m,\u001b[49m\n\u001b[1;32m   1888\u001b[0m \u001b[43m    \u001b[49m\u001b[43mstorage_options\u001b[49m\u001b[38;5;241;43m=\u001b[39;49m\u001b[38;5;28;43mself\u001b[39;49m\u001b[38;5;241;43m.\u001b[39;49m\u001b[43moptions\u001b[49m\u001b[38;5;241;43m.\u001b[39;49m\u001b[43mget\u001b[49m\u001b[43m(\u001b[49m\u001b[38;5;124;43m\"\u001b[39;49m\u001b[38;5;124;43mstorage_options\u001b[39;49m\u001b[38;5;124;43m\"\u001b[39;49m\u001b[43m,\u001b[49m\u001b[43m \u001b[49m\u001b[38;5;28;43;01mNone\u001b[39;49;00m\u001b[43m)\u001b[49m\u001b[43m,\u001b[49m\n\u001b[1;32m   1889\u001b[0m \u001b[43m\u001b[49m\u001b[43m)\u001b[49m\n\u001b[1;32m   1890\u001b[0m \u001b[38;5;28;01massert\u001b[39;00m \u001b[38;5;28mself\u001b[39m\u001b[38;5;241m.\u001b[39mhandles \u001b[38;5;129;01mis\u001b[39;00m \u001b[38;5;129;01mnot\u001b[39;00m \u001b[38;5;28;01mNone\u001b[39;00m\n\u001b[1;32m   1891\u001b[0m f \u001b[38;5;241m=\u001b[39m \u001b[38;5;28mself\u001b[39m\u001b[38;5;241m.\u001b[39mhandles\u001b[38;5;241m.\u001b[39mhandle\n",
            "File \u001b[0;32m/opt/homebrew/lib/python3.12/site-packages/pandas/io/common.py:873\u001b[0m, in \u001b[0;36mget_handle\u001b[0;34m(path_or_buf, mode, encoding, compression, memory_map, is_text, errors, storage_options)\u001b[0m\n\u001b[1;32m    868\u001b[0m \u001b[38;5;28;01melif\u001b[39;00m \u001b[38;5;28misinstance\u001b[39m(handle, \u001b[38;5;28mstr\u001b[39m):\n\u001b[1;32m    869\u001b[0m     \u001b[38;5;66;03m# Check whether the filename is to be opened in binary mode.\u001b[39;00m\n\u001b[1;32m    870\u001b[0m     \u001b[38;5;66;03m# Binary mode does not support 'encoding' and 'newline'.\u001b[39;00m\n\u001b[1;32m    871\u001b[0m     \u001b[38;5;28;01mif\u001b[39;00m ioargs\u001b[38;5;241m.\u001b[39mencoding \u001b[38;5;129;01mand\u001b[39;00m \u001b[38;5;124m\"\u001b[39m\u001b[38;5;124mb\u001b[39m\u001b[38;5;124m\"\u001b[39m \u001b[38;5;129;01mnot\u001b[39;00m \u001b[38;5;129;01min\u001b[39;00m ioargs\u001b[38;5;241m.\u001b[39mmode:\n\u001b[1;32m    872\u001b[0m         \u001b[38;5;66;03m# Encoding\u001b[39;00m\n\u001b[0;32m--> 873\u001b[0m         handle \u001b[38;5;241m=\u001b[39m \u001b[38;5;28;43mopen\u001b[39;49m\u001b[43m(\u001b[49m\n\u001b[1;32m    874\u001b[0m \u001b[43m            \u001b[49m\u001b[43mhandle\u001b[49m\u001b[43m,\u001b[49m\n\u001b[1;32m    875\u001b[0m \u001b[43m            \u001b[49m\u001b[43mioargs\u001b[49m\u001b[38;5;241;43m.\u001b[39;49m\u001b[43mmode\u001b[49m\u001b[43m,\u001b[49m\n\u001b[1;32m    876\u001b[0m \u001b[43m            \u001b[49m\u001b[43mencoding\u001b[49m\u001b[38;5;241;43m=\u001b[39;49m\u001b[43mioargs\u001b[49m\u001b[38;5;241;43m.\u001b[39;49m\u001b[43mencoding\u001b[49m\u001b[43m,\u001b[49m\n\u001b[1;32m    877\u001b[0m \u001b[43m            \u001b[49m\u001b[43merrors\u001b[49m\u001b[38;5;241;43m=\u001b[39;49m\u001b[43merrors\u001b[49m\u001b[43m,\u001b[49m\n\u001b[1;32m    878\u001b[0m \u001b[43m            \u001b[49m\u001b[43mnewline\u001b[49m\u001b[38;5;241;43m=\u001b[39;49m\u001b[38;5;124;43m\"\u001b[39;49m\u001b[38;5;124;43m\"\u001b[39;49m\u001b[43m,\u001b[49m\n\u001b[1;32m    879\u001b[0m \u001b[43m        \u001b[49m\u001b[43m)\u001b[49m\n\u001b[1;32m    880\u001b[0m     \u001b[38;5;28;01melse\u001b[39;00m:\n\u001b[1;32m    881\u001b[0m         \u001b[38;5;66;03m# Binary mode\u001b[39;00m\n\u001b[1;32m    882\u001b[0m         handle \u001b[38;5;241m=\u001b[39m \u001b[38;5;28mopen\u001b[39m(handle, ioargs\u001b[38;5;241m.\u001b[39mmode)\n",
            "\u001b[0;31mFileNotFoundError\u001b[0m: [Errno 2] No such file or directory: '/content/drive/MyDrive/stock_price_prediction/filtered_stock_data.csv'"
          ]
        }
      ],
      "source": [
        "df=pd.read_csv(filename)"
      ]
    },
    {
      "cell_type": "code",
      "execution_count": null,
      "id": "ZV0GgbGgSQKv",
      "metadata": {
        "colab": {
          "base_uri": "https://localhost:8080/",
          "height": 424
        },
        "execution": {
          "iopub.execute_input": "2024-02-13T00:25:10.020481Z",
          "iopub.status.busy": "2024-02-13T00:25:10.020111Z",
          "iopub.status.idle": "2024-02-13T00:25:10.048457Z",
          "shell.execute_reply": "2024-02-13T00:25:10.047545Z",
          "shell.execute_reply.started": "2024-02-13T00:25:10.020453Z"
        },
        "id": "ZV0GgbGgSQKv",
        "outputId": "bd16eb28-a0dd-4085-97e0-f339005add22",
        "trusted": true
      },
      "outputs": [
        {
          "data": {
            "application/vnd.google.colaboratory.intrinsic+json": {
              "type": "dataframe",
              "variable_name": "df"
            },
            "text/html": [
              "\n",
              "  <div id=\"df-374a2ba3-50e2-4b54-b650-f9788ecae117\" class=\"colab-df-container\">\n",
              "    <div>\n",
              "<style scoped>\n",
              "    .dataframe tbody tr th:only-of-type {\n",
              "        vertical-align: middle;\n",
              "    }\n",
              "\n",
              "    .dataframe tbody tr th {\n",
              "        vertical-align: top;\n",
              "    }\n",
              "\n",
              "    .dataframe thead th {\n",
              "        text-align: right;\n",
              "    }\n",
              "</style>\n",
              "<table border=\"1\" class=\"dataframe\">\n",
              "  <thead>\n",
              "    <tr style=\"text-align: right;\">\n",
              "      <th></th>\n",
              "      <th>date</th>\n",
              "      <th>tiker</th>\n",
              "      <th>open</th>\n",
              "      <th>high</th>\n",
              "      <th>low</th>\n",
              "      <th>close</th>\n",
              "      <th>volume</th>\n",
              "    </tr>\n",
              "  </thead>\n",
              "  <tbody>\n",
              "    <tr>\n",
              "      <th>0</th>\n",
              "      <td>2021-05-06</td>\n",
              "      <td>1010</td>\n",
              "      <td>24.80</td>\n",
              "      <td>24.82</td>\n",
              "      <td>24.32</td>\n",
              "      <td>24.42</td>\n",
              "      <td>967687</td>\n",
              "    </tr>\n",
              "    <tr>\n",
              "      <th>1</th>\n",
              "      <td>2021-05-05</td>\n",
              "      <td>1010</td>\n",
              "      <td>25.10</td>\n",
              "      <td>25.10</td>\n",
              "      <td>24.76</td>\n",
              "      <td>24.80</td>\n",
              "      <td>745371</td>\n",
              "    </tr>\n",
              "    <tr>\n",
              "      <th>2</th>\n",
              "      <td>2021-05-04</td>\n",
              "      <td>1010</td>\n",
              "      <td>25.50</td>\n",
              "      <td>25.60</td>\n",
              "      <td>24.76</td>\n",
              "      <td>24.90</td>\n",
              "      <td>1935432</td>\n",
              "    </tr>\n",
              "    <tr>\n",
              "      <th>3</th>\n",
              "      <td>2021-05-03</td>\n",
              "      <td>1010</td>\n",
              "      <td>25.90</td>\n",
              "      <td>25.90</td>\n",
              "      <td>25.45</td>\n",
              "      <td>25.45</td>\n",
              "      <td>745641</td>\n",
              "    </tr>\n",
              "    <tr>\n",
              "      <th>4</th>\n",
              "      <td>2021-05-02</td>\n",
              "      <td>1010</td>\n",
              "      <td>26.20</td>\n",
              "      <td>26.40</td>\n",
              "      <td>25.90</td>\n",
              "      <td>25.90</td>\n",
              "      <td>1087119</td>\n",
              "    </tr>\n",
              "    <tr>\n",
              "      <th>...</th>\n",
              "      <td>...</td>\n",
              "      <td>...</td>\n",
              "      <td>...</td>\n",
              "      <td>...</td>\n",
              "      <td>...</td>\n",
              "      <td>...</td>\n",
              "      <td>...</td>\n",
              "    </tr>\n",
              "    <tr>\n",
              "      <th>493302</th>\n",
              "      <td>1994-02-01</td>\n",
              "      <td>TASI</td>\n",
              "      <td>1752.26</td>\n",
              "      <td>1749.70</td>\n",
              "      <td>1749.70</td>\n",
              "      <td>1749.70</td>\n",
              "      <td>176595</td>\n",
              "    </tr>\n",
              "    <tr>\n",
              "      <th>493303</th>\n",
              "      <td>1994-01-31</td>\n",
              "      <td>TASI</td>\n",
              "      <td>1752.59</td>\n",
              "      <td>1752.26</td>\n",
              "      <td>1752.26</td>\n",
              "      <td>1752.26</td>\n",
              "      <td>212105</td>\n",
              "    </tr>\n",
              "    <tr>\n",
              "      <th>493304</th>\n",
              "      <td>1994-01-30</td>\n",
              "      <td>TASI</td>\n",
              "      <td>1750.91</td>\n",
              "      <td>1752.59</td>\n",
              "      <td>1752.59</td>\n",
              "      <td>1752.59</td>\n",
              "      <td>180425</td>\n",
              "    </tr>\n",
              "    <tr>\n",
              "      <th>493305</th>\n",
              "      <td>1994-01-29</td>\n",
              "      <td>TASI</td>\n",
              "      <td>1751.71</td>\n",
              "      <td>1750.91</td>\n",
              "      <td>1750.91</td>\n",
              "      <td>1750.91</td>\n",
              "      <td>204831</td>\n",
              "    </tr>\n",
              "    <tr>\n",
              "      <th>493306</th>\n",
              "      <td>1994-01-26</td>\n",
              "      <td>TASI</td>\n",
              "      <td>1751.71</td>\n",
              "      <td>1751.71</td>\n",
              "      <td>1751.71</td>\n",
              "      <td>1751.71</td>\n",
              "      <td>312907</td>\n",
              "    </tr>\n",
              "  </tbody>\n",
              "</table>\n",
              "<p>493307 rows × 7 columns</p>\n",
              "</div>\n",
              "    <div class=\"colab-df-buttons\">\n",
              "\n",
              "  <div class=\"colab-df-container\">\n",
              "    <button class=\"colab-df-convert\" onclick=\"convertToInteractive('df-374a2ba3-50e2-4b54-b650-f9788ecae117')\"\n",
              "            title=\"Convert this dataframe to an interactive table.\"\n",
              "            style=\"display:none;\">\n",
              "\n",
              "  <svg xmlns=\"http://www.w3.org/2000/svg\" height=\"24px\" viewBox=\"0 -960 960 960\">\n",
              "    <path d=\"M120-120v-720h720v720H120Zm60-500h600v-160H180v160Zm220 220h160v-160H400v160Zm0 220h160v-160H400v160ZM180-400h160v-160H180v160Zm440 0h160v-160H620v160ZM180-180h160v-160H180v160Zm440 0h160v-160H620v160Z\"/>\n",
              "  </svg>\n",
              "    </button>\n",
              "\n",
              "  <style>\n",
              "    .colab-df-container {\n",
              "      display:flex;\n",
              "      gap: 12px;\n",
              "    }\n",
              "\n",
              "    .colab-df-convert {\n",
              "      background-color: #E8F0FE;\n",
              "      border: none;\n",
              "      border-radius: 50%;\n",
              "      cursor: pointer;\n",
              "      display: none;\n",
              "      fill: #1967D2;\n",
              "      height: 32px;\n",
              "      padding: 0 0 0 0;\n",
              "      width: 32px;\n",
              "    }\n",
              "\n",
              "    .colab-df-convert:hover {\n",
              "      background-color: #E2EBFA;\n",
              "      box-shadow: 0px 1px 2px rgba(60, 64, 67, 0.3), 0px 1px 3px 1px rgba(60, 64, 67, 0.15);\n",
              "      fill: #174EA6;\n",
              "    }\n",
              "\n",
              "    .colab-df-buttons div {\n",
              "      margin-bottom: 4px;\n",
              "    }\n",
              "\n",
              "    [theme=dark] .colab-df-convert {\n",
              "      background-color: #3B4455;\n",
              "      fill: #D2E3FC;\n",
              "    }\n",
              "\n",
              "    [theme=dark] .colab-df-convert:hover {\n",
              "      background-color: #434B5C;\n",
              "      box-shadow: 0px 1px 3px 1px rgba(0, 0, 0, 0.15);\n",
              "      filter: drop-shadow(0px 1px 2px rgba(0, 0, 0, 0.3));\n",
              "      fill: #FFFFFF;\n",
              "    }\n",
              "  </style>\n",
              "\n",
              "    <script>\n",
              "      const buttonEl =\n",
              "        document.querySelector('#df-374a2ba3-50e2-4b54-b650-f9788ecae117 button.colab-df-convert');\n",
              "      buttonEl.style.display =\n",
              "        google.colab.kernel.accessAllowed ? 'block' : 'none';\n",
              "\n",
              "      async function convertToInteractive(key) {\n",
              "        const element = document.querySelector('#df-374a2ba3-50e2-4b54-b650-f9788ecae117');\n",
              "        const dataTable =\n",
              "          await google.colab.kernel.invokeFunction('convertToInteractive',\n",
              "                                                    [key], {});\n",
              "        if (!dataTable) return;\n",
              "\n",
              "        const docLinkHtml = 'Like what you see? Visit the ' +\n",
              "          '<a target=\"_blank\" href=https://colab.research.google.com/notebooks/data_table.ipynb>data table notebook</a>'\n",
              "          + ' to learn more about interactive tables.';\n",
              "        element.innerHTML = '';\n",
              "        dataTable['output_type'] = 'display_data';\n",
              "        await google.colab.output.renderOutput(dataTable, element);\n",
              "        const docLink = document.createElement('div');\n",
              "        docLink.innerHTML = docLinkHtml;\n",
              "        element.appendChild(docLink);\n",
              "      }\n",
              "    </script>\n",
              "  </div>\n",
              "\n",
              "\n",
              "<div id=\"df-0d6ca82a-ba75-4841-a81e-bb8921e8d974\">\n",
              "  <button class=\"colab-df-quickchart\" onclick=\"quickchart('df-0d6ca82a-ba75-4841-a81e-bb8921e8d974')\"\n",
              "            title=\"Suggest charts\"\n",
              "            style=\"display:none;\">\n",
              "\n",
              "<svg xmlns=\"http://www.w3.org/2000/svg\" height=\"24px\"viewBox=\"0 0 24 24\"\n",
              "     width=\"24px\">\n",
              "    <g>\n",
              "        <path d=\"M19 3H5c-1.1 0-2 .9-2 2v14c0 1.1.9 2 2 2h14c1.1 0 2-.9 2-2V5c0-1.1-.9-2-2-2zM9 17H7v-7h2v7zm4 0h-2V7h2v10zm4 0h-2v-4h2v4z\"/>\n",
              "    </g>\n",
              "</svg>\n",
              "  </button>\n",
              "\n",
              "<style>\n",
              "  .colab-df-quickchart {\n",
              "      --bg-color: #E8F0FE;\n",
              "      --fill-color: #1967D2;\n",
              "      --hover-bg-color: #E2EBFA;\n",
              "      --hover-fill-color: #174EA6;\n",
              "      --disabled-fill-color: #AAA;\n",
              "      --disabled-bg-color: #DDD;\n",
              "  }\n",
              "\n",
              "  [theme=dark] .colab-df-quickchart {\n",
              "      --bg-color: #3B4455;\n",
              "      --fill-color: #D2E3FC;\n",
              "      --hover-bg-color: #434B5C;\n",
              "      --hover-fill-color: #FFFFFF;\n",
              "      --disabled-bg-color: #3B4455;\n",
              "      --disabled-fill-color: #666;\n",
              "  }\n",
              "\n",
              "  .colab-df-quickchart {\n",
              "    background-color: var(--bg-color);\n",
              "    border: none;\n",
              "    border-radius: 50%;\n",
              "    cursor: pointer;\n",
              "    display: none;\n",
              "    fill: var(--fill-color);\n",
              "    height: 32px;\n",
              "    padding: 0;\n",
              "    width: 32px;\n",
              "  }\n",
              "\n",
              "  .colab-df-quickchart:hover {\n",
              "    background-color: var(--hover-bg-color);\n",
              "    box-shadow: 0 1px 2px rgba(60, 64, 67, 0.3), 0 1px 3px 1px rgba(60, 64, 67, 0.15);\n",
              "    fill: var(--button-hover-fill-color);\n",
              "  }\n",
              "\n",
              "  .colab-df-quickchart-complete:disabled,\n",
              "  .colab-df-quickchart-complete:disabled:hover {\n",
              "    background-color: var(--disabled-bg-color);\n",
              "    fill: var(--disabled-fill-color);\n",
              "    box-shadow: none;\n",
              "  }\n",
              "\n",
              "  .colab-df-spinner {\n",
              "    border: 2px solid var(--fill-color);\n",
              "    border-color: transparent;\n",
              "    border-bottom-color: var(--fill-color);\n",
              "    animation:\n",
              "      spin 1s steps(1) infinite;\n",
              "  }\n",
              "\n",
              "  @keyframes spin {\n",
              "    0% {\n",
              "      border-color: transparent;\n",
              "      border-bottom-color: var(--fill-color);\n",
              "      border-left-color: var(--fill-color);\n",
              "    }\n",
              "    20% {\n",
              "      border-color: transparent;\n",
              "      border-left-color: var(--fill-color);\n",
              "      border-top-color: var(--fill-color);\n",
              "    }\n",
              "    30% {\n",
              "      border-color: transparent;\n",
              "      border-left-color: var(--fill-color);\n",
              "      border-top-color: var(--fill-color);\n",
              "      border-right-color: var(--fill-color);\n",
              "    }\n",
              "    40% {\n",
              "      border-color: transparent;\n",
              "      border-right-color: var(--fill-color);\n",
              "      border-top-color: var(--fill-color);\n",
              "    }\n",
              "    60% {\n",
              "      border-color: transparent;\n",
              "      border-right-color: var(--fill-color);\n",
              "    }\n",
              "    80% {\n",
              "      border-color: transparent;\n",
              "      border-right-color: var(--fill-color);\n",
              "      border-bottom-color: var(--fill-color);\n",
              "    }\n",
              "    90% {\n",
              "      border-color: transparent;\n",
              "      border-bottom-color: var(--fill-color);\n",
              "    }\n",
              "  }\n",
              "</style>\n",
              "\n",
              "  <script>\n",
              "    async function quickchart(key) {\n",
              "      const quickchartButtonEl =\n",
              "        document.querySelector('#' + key + ' button');\n",
              "      quickchartButtonEl.disabled = true;  // To prevent multiple clicks.\n",
              "      quickchartButtonEl.classList.add('colab-df-spinner');\n",
              "      try {\n",
              "        const charts = await google.colab.kernel.invokeFunction(\n",
              "            'suggestCharts', [key], {});\n",
              "      } catch (error) {\n",
              "        console.error('Error during call to suggestCharts:', error);\n",
              "      }\n",
              "      quickchartButtonEl.classList.remove('colab-df-spinner');\n",
              "      quickchartButtonEl.classList.add('colab-df-quickchart-complete');\n",
              "    }\n",
              "    (() => {\n",
              "      let quickchartButtonEl =\n",
              "        document.querySelector('#df-0d6ca82a-ba75-4841-a81e-bb8921e8d974 button');\n",
              "      quickchartButtonEl.style.display =\n",
              "        google.colab.kernel.accessAllowed ? 'block' : 'none';\n",
              "    })();\n",
              "  </script>\n",
              "</div>\n",
              "    </div>\n",
              "  </div>\n"
            ],
            "text/plain": [
              "              date tiker     open     high      low    close   volume\n",
              "0       2021-05-06  1010    24.80    24.82    24.32    24.42   967687\n",
              "1       2021-05-05  1010    25.10    25.10    24.76    24.80   745371\n",
              "2       2021-05-04  1010    25.50    25.60    24.76    24.90  1935432\n",
              "3       2021-05-03  1010    25.90    25.90    25.45    25.45   745641\n",
              "4       2021-05-02  1010    26.20    26.40    25.90    25.90  1087119\n",
              "...            ...   ...      ...      ...      ...      ...      ...\n",
              "493302  1994-02-01  TASI  1752.26  1749.70  1749.70  1749.70   176595\n",
              "493303  1994-01-31  TASI  1752.59  1752.26  1752.26  1752.26   212105\n",
              "493304  1994-01-30  TASI  1750.91  1752.59  1752.59  1752.59   180425\n",
              "493305  1994-01-29  TASI  1751.71  1750.91  1750.91  1750.91   204831\n",
              "493306  1994-01-26  TASI  1751.71  1751.71  1751.71  1751.71   312907\n",
              "\n",
              "[493307 rows x 7 columns]"
            ]
          },
          "execution_count": 47,
          "metadata": {},
          "output_type": "execute_result"
        }
      ],
      "source": [
        "df"
      ]
    },
    {
      "cell_type": "code",
      "execution_count": null,
      "id": "DcdrSMAC-1Na",
      "metadata": {
        "execution": {
          "iopub.execute_input": "2024-02-13T00:25:18.536908Z",
          "iopub.status.busy": "2024-02-13T00:25:18.535876Z",
          "iopub.status.idle": "2024-02-13T00:25:18.554846Z",
          "shell.execute_reply": "2024-02-13T00:25:18.553939Z",
          "shell.execute_reply.started": "2024-02-13T00:25:18.536870Z"
        },
        "id": "DcdrSMAC-1Na",
        "trusted": true
      },
      "outputs": [],
      "source": [
        "#convert datetime from Object to datetime formate\n",
        "df['date'] = pd.to_datetime(df['date'])"
      ]
    },
    {
      "cell_type": "code",
      "execution_count": null,
      "id": "KH4J1RMaBahV",
      "metadata": {
        "execution": {
          "iopub.execute_input": "2024-02-13T00:25:21.155116Z",
          "iopub.status.busy": "2024-02-13T00:25:21.154755Z",
          "iopub.status.idle": "2024-02-13T00:25:21.161225Z",
          "shell.execute_reply": "2024-02-13T00:25:21.160245Z",
          "shell.execute_reply.started": "2024-02-13T00:25:21.155087Z"
        },
        "id": "KH4J1RMaBahV",
        "trusted": true
      },
      "outputs": [],
      "source": [
        "#set datetime as dataset index\n",
        "df.set_index('date', inplace=True)"
      ]
    },
    {
      "cell_type": "code",
      "execution_count": null,
      "id": "XuYahSNfByyt",
      "metadata": {
        "colab": {
          "base_uri": "https://localhost:8080/",
          "height": 300
        },
        "execution": {
          "iopub.execute_input": "2024-02-12T22:21:47.687468Z",
          "iopub.status.busy": "2024-02-12T22:21:47.687209Z",
          "iopub.status.idle": "2024-02-12T22:21:47.770386Z",
          "shell.execute_reply": "2024-02-12T22:21:47.769482Z",
          "shell.execute_reply.started": "2024-02-12T22:21:47.687445Z"
        },
        "id": "XuYahSNfByyt",
        "outputId": "018ae5f3-1478-4bc2-eca0-911ce9033f48",
        "trusted": true
      },
      "outputs": [
        {
          "data": {
            "application/vnd.google.colaboratory.intrinsic+json": {
              "summary": "{\n  \"name\": \"df\",\n  \"rows\": 8,\n  \"fields\": [\n    {\n      \"column\": \"open\",\n      \"properties\": {\n        \"dtype\": \"number\",\n        \"std\": 173465.0651211864,\n        \"min\": 1.18,\n        \"max\": 493307.0,\n        \"num_unique_values\": 8,\n        \"samples\": [\n          117.97471278534462,\n          23.13,\n          493307.0\n        ],\n        \"semantic_type\": \"\",\n        \"description\": \"\"\n      }\n    },\n    {\n      \"column\": \"high\",\n      \"properties\": {\n        \"dtype\": \"number\",\n        \"std\": 173452.7115068033,\n        \"min\": 1.18,\n        \"max\": 493307.0,\n        \"num_unique_values\": 8,\n        \"samples\": [\n          119.0694812358227,\n          23.45,\n          493307.0\n        ],\n        \"semantic_type\": \"\",\n        \"description\": \"\"\n      }\n    },\n    {\n      \"column\": \"low\",\n      \"properties\": {\n        \"dtype\": \"number\",\n        \"std\": 173475.1864421335,\n        \"min\": 1.15,\n        \"max\": 493307.0,\n        \"num_unique_values\": 8,\n        \"samples\": [\n          116.84350220045528,\n          22.85,\n          493307.0\n        ],\n        \"semantic_type\": \"\",\n        \"description\": \"\"\n      }\n    },\n    {\n      \"column\": \"close\",\n      \"properties\": {\n        \"dtype\": \"number\",\n        \"std\": 173465.0558851492,\n        \"min\": 1.15,\n        \"max\": 493307.0,\n        \"num_unique_values\": 8,\n        \"samples\": [\n          118.0102618653293,\n          23.16,\n          493307.0\n        ],\n        \"semantic_type\": \"\",\n        \"description\": \"\"\n      }\n    },\n    {\n      \"column\": \"volume\",\n      \"properties\": {\n        \"dtype\": \"number\",\n        \"std\": 375050743.1226358,\n        \"min\": 1.0,\n        \"max\": 1064570112.0,\n        \"num_unique_values\": 8,\n        \"samples\": [\n          3152230.0238391105,\n          369401.0,\n          493307.0\n        ],\n        \"semantic_type\": \"\",\n        \"description\": \"\"\n      }\n    }\n  ]\n}",
              "type": "dataframe"
            },
            "text/html": [
              "\n",
              "  <div id=\"df-ce609912-b41e-4bab-8feb-b2645bca6be6\" class=\"colab-df-container\">\n",
              "    <div>\n",
              "<style scoped>\n",
              "    .dataframe tbody tr th:only-of-type {\n",
              "        vertical-align: middle;\n",
              "    }\n",
              "\n",
              "    .dataframe tbody tr th {\n",
              "        vertical-align: top;\n",
              "    }\n",
              "\n",
              "    .dataframe thead th {\n",
              "        text-align: right;\n",
              "    }\n",
              "</style>\n",
              "<table border=\"1\" class=\"dataframe\">\n",
              "  <thead>\n",
              "    <tr style=\"text-align: right;\">\n",
              "      <th></th>\n",
              "      <th>open</th>\n",
              "      <th>high</th>\n",
              "      <th>low</th>\n",
              "      <th>close</th>\n",
              "      <th>volume</th>\n",
              "    </tr>\n",
              "  </thead>\n",
              "  <tbody>\n",
              "    <tr>\n",
              "      <th>count</th>\n",
              "      <td>493307.000000</td>\n",
              "      <td>493307.000000</td>\n",
              "      <td>493307.000000</td>\n",
              "      <td>493307.000000</td>\n",
              "      <td>4.933070e+05</td>\n",
              "    </tr>\n",
              "    <tr>\n",
              "      <th>mean</th>\n",
              "      <td>117.974713</td>\n",
              "      <td>119.069481</td>\n",
              "      <td>116.843502</td>\n",
              "      <td>118.010262</td>\n",
              "      <td>3.152230e+06</td>\n",
              "    </tr>\n",
              "    <tr>\n",
              "      <th>std</th>\n",
              "      <td>815.562207</td>\n",
              "      <td>821.779284</td>\n",
              "      <td>808.093757</td>\n",
              "      <td>815.672372</td>\n",
              "      <td>2.257261e+07</td>\n",
              "    </tr>\n",
              "    <tr>\n",
              "      <th>min</th>\n",
              "      <td>1.180000</td>\n",
              "      <td>1.180000</td>\n",
              "      <td>1.150000</td>\n",
              "      <td>1.150000</td>\n",
              "      <td>1.000000e+00</td>\n",
              "    </tr>\n",
              "    <tr>\n",
              "      <th>25%</th>\n",
              "      <td>12.420000</td>\n",
              "      <td>12.560000</td>\n",
              "      <td>12.300000</td>\n",
              "      <td>12.430000</td>\n",
              "      <td>9.911200e+04</td>\n",
              "    </tr>\n",
              "    <tr>\n",
              "      <th>50%</th>\n",
              "      <td>23.130000</td>\n",
              "      <td>23.450000</td>\n",
              "      <td>22.850000</td>\n",
              "      <td>23.160000</td>\n",
              "      <td>3.694010e+05</td>\n",
              "    </tr>\n",
              "    <tr>\n",
              "      <th>75%</th>\n",
              "      <td>43.200000</td>\n",
              "      <td>43.900000</td>\n",
              "      <td>42.630000</td>\n",
              "      <td>43.220000</td>\n",
              "      <td>1.224636e+06</td>\n",
              "    </tr>\n",
              "    <tr>\n",
              "      <th>max</th>\n",
              "      <td>20634.860000</td>\n",
              "      <td>20966.580000</td>\n",
              "      <td>20368.530000</td>\n",
              "      <td>20634.860000</td>\n",
              "      <td>1.064570e+09</td>\n",
              "    </tr>\n",
              "  </tbody>\n",
              "</table>\n",
              "</div>\n",
              "    <div class=\"colab-df-buttons\">\n",
              "\n",
              "  <div class=\"colab-df-container\">\n",
              "    <button class=\"colab-df-convert\" onclick=\"convertToInteractive('df-ce609912-b41e-4bab-8feb-b2645bca6be6')\"\n",
              "            title=\"Convert this dataframe to an interactive table.\"\n",
              "            style=\"display:none;\">\n",
              "\n",
              "  <svg xmlns=\"http://www.w3.org/2000/svg\" height=\"24px\" viewBox=\"0 -960 960 960\">\n",
              "    <path d=\"M120-120v-720h720v720H120Zm60-500h600v-160H180v160Zm220 220h160v-160H400v160Zm0 220h160v-160H400v160ZM180-400h160v-160H180v160Zm440 0h160v-160H620v160ZM180-180h160v-160H180v160Zm440 0h160v-160H620v160Z\"/>\n",
              "  </svg>\n",
              "    </button>\n",
              "\n",
              "  <style>\n",
              "    .colab-df-container {\n",
              "      display:flex;\n",
              "      gap: 12px;\n",
              "    }\n",
              "\n",
              "    .colab-df-convert {\n",
              "      background-color: #E8F0FE;\n",
              "      border: none;\n",
              "      border-radius: 50%;\n",
              "      cursor: pointer;\n",
              "      display: none;\n",
              "      fill: #1967D2;\n",
              "      height: 32px;\n",
              "      padding: 0 0 0 0;\n",
              "      width: 32px;\n",
              "    }\n",
              "\n",
              "    .colab-df-convert:hover {\n",
              "      background-color: #E2EBFA;\n",
              "      box-shadow: 0px 1px 2px rgba(60, 64, 67, 0.3), 0px 1px 3px 1px rgba(60, 64, 67, 0.15);\n",
              "      fill: #174EA6;\n",
              "    }\n",
              "\n",
              "    .colab-df-buttons div {\n",
              "      margin-bottom: 4px;\n",
              "    }\n",
              "\n",
              "    [theme=dark] .colab-df-convert {\n",
              "      background-color: #3B4455;\n",
              "      fill: #D2E3FC;\n",
              "    }\n",
              "\n",
              "    [theme=dark] .colab-df-convert:hover {\n",
              "      background-color: #434B5C;\n",
              "      box-shadow: 0px 1px 3px 1px rgba(0, 0, 0, 0.15);\n",
              "      filter: drop-shadow(0px 1px 2px rgba(0, 0, 0, 0.3));\n",
              "      fill: #FFFFFF;\n",
              "    }\n",
              "  </style>\n",
              "\n",
              "    <script>\n",
              "      const buttonEl =\n",
              "        document.querySelector('#df-ce609912-b41e-4bab-8feb-b2645bca6be6 button.colab-df-convert');\n",
              "      buttonEl.style.display =\n",
              "        google.colab.kernel.accessAllowed ? 'block' : 'none';\n",
              "\n",
              "      async function convertToInteractive(key) {\n",
              "        const element = document.querySelector('#df-ce609912-b41e-4bab-8feb-b2645bca6be6');\n",
              "        const dataTable =\n",
              "          await google.colab.kernel.invokeFunction('convertToInteractive',\n",
              "                                                    [key], {});\n",
              "        if (!dataTable) return;\n",
              "\n",
              "        const docLinkHtml = 'Like what you see? Visit the ' +\n",
              "          '<a target=\"_blank\" href=https://colab.research.google.com/notebooks/data_table.ipynb>data table notebook</a>'\n",
              "          + ' to learn more about interactive tables.';\n",
              "        element.innerHTML = '';\n",
              "        dataTable['output_type'] = 'display_data';\n",
              "        await google.colab.output.renderOutput(dataTable, element);\n",
              "        const docLink = document.createElement('div');\n",
              "        docLink.innerHTML = docLinkHtml;\n",
              "        element.appendChild(docLink);\n",
              "      }\n",
              "    </script>\n",
              "  </div>\n",
              "\n",
              "\n",
              "<div id=\"df-1183be30-8a82-427c-a5ac-b967b7c1c61c\">\n",
              "  <button class=\"colab-df-quickchart\" onclick=\"quickchart('df-1183be30-8a82-427c-a5ac-b967b7c1c61c')\"\n",
              "            title=\"Suggest charts\"\n",
              "            style=\"display:none;\">\n",
              "\n",
              "<svg xmlns=\"http://www.w3.org/2000/svg\" height=\"24px\"viewBox=\"0 0 24 24\"\n",
              "     width=\"24px\">\n",
              "    <g>\n",
              "        <path d=\"M19 3H5c-1.1 0-2 .9-2 2v14c0 1.1.9 2 2 2h14c1.1 0 2-.9 2-2V5c0-1.1-.9-2-2-2zM9 17H7v-7h2v7zm4 0h-2V7h2v10zm4 0h-2v-4h2v4z\"/>\n",
              "    </g>\n",
              "</svg>\n",
              "  </button>\n",
              "\n",
              "<style>\n",
              "  .colab-df-quickchart {\n",
              "      --bg-color: #E8F0FE;\n",
              "      --fill-color: #1967D2;\n",
              "      --hover-bg-color: #E2EBFA;\n",
              "      --hover-fill-color: #174EA6;\n",
              "      --disabled-fill-color: #AAA;\n",
              "      --disabled-bg-color: #DDD;\n",
              "  }\n",
              "\n",
              "  [theme=dark] .colab-df-quickchart {\n",
              "      --bg-color: #3B4455;\n",
              "      --fill-color: #D2E3FC;\n",
              "      --hover-bg-color: #434B5C;\n",
              "      --hover-fill-color: #FFFFFF;\n",
              "      --disabled-bg-color: #3B4455;\n",
              "      --disabled-fill-color: #666;\n",
              "  }\n",
              "\n",
              "  .colab-df-quickchart {\n",
              "    background-color: var(--bg-color);\n",
              "    border: none;\n",
              "    border-radius: 50%;\n",
              "    cursor: pointer;\n",
              "    display: none;\n",
              "    fill: var(--fill-color);\n",
              "    height: 32px;\n",
              "    padding: 0;\n",
              "    width: 32px;\n",
              "  }\n",
              "\n",
              "  .colab-df-quickchart:hover {\n",
              "    background-color: var(--hover-bg-color);\n",
              "    box-shadow: 0 1px 2px rgba(60, 64, 67, 0.3), 0 1px 3px 1px rgba(60, 64, 67, 0.15);\n",
              "    fill: var(--button-hover-fill-color);\n",
              "  }\n",
              "\n",
              "  .colab-df-quickchart-complete:disabled,\n",
              "  .colab-df-quickchart-complete:disabled:hover {\n",
              "    background-color: var(--disabled-bg-color);\n",
              "    fill: var(--disabled-fill-color);\n",
              "    box-shadow: none;\n",
              "  }\n",
              "\n",
              "  .colab-df-spinner {\n",
              "    border: 2px solid var(--fill-color);\n",
              "    border-color: transparent;\n",
              "    border-bottom-color: var(--fill-color);\n",
              "    animation:\n",
              "      spin 1s steps(1) infinite;\n",
              "  }\n",
              "\n",
              "  @keyframes spin {\n",
              "    0% {\n",
              "      border-color: transparent;\n",
              "      border-bottom-color: var(--fill-color);\n",
              "      border-left-color: var(--fill-color);\n",
              "    }\n",
              "    20% {\n",
              "      border-color: transparent;\n",
              "      border-left-color: var(--fill-color);\n",
              "      border-top-color: var(--fill-color);\n",
              "    }\n",
              "    30% {\n",
              "      border-color: transparent;\n",
              "      border-left-color: var(--fill-color);\n",
              "      border-top-color: var(--fill-color);\n",
              "      border-right-color: var(--fill-color);\n",
              "    }\n",
              "    40% {\n",
              "      border-color: transparent;\n",
              "      border-right-color: var(--fill-color);\n",
              "      border-top-color: var(--fill-color);\n",
              "    }\n",
              "    60% {\n",
              "      border-color: transparent;\n",
              "      border-right-color: var(--fill-color);\n",
              "    }\n",
              "    80% {\n",
              "      border-color: transparent;\n",
              "      border-right-color: var(--fill-color);\n",
              "      border-bottom-color: var(--fill-color);\n",
              "    }\n",
              "    90% {\n",
              "      border-color: transparent;\n",
              "      border-bottom-color: var(--fill-color);\n",
              "    }\n",
              "  }\n",
              "</style>\n",
              "\n",
              "  <script>\n",
              "    async function quickchart(key) {\n",
              "      const quickchartButtonEl =\n",
              "        document.querySelector('#' + key + ' button');\n",
              "      quickchartButtonEl.disabled = true;  // To prevent multiple clicks.\n",
              "      quickchartButtonEl.classList.add('colab-df-spinner');\n",
              "      try {\n",
              "        const charts = await google.colab.kernel.invokeFunction(\n",
              "            'suggestCharts', [key], {});\n",
              "      } catch (error) {\n",
              "        console.error('Error during call to suggestCharts:', error);\n",
              "      }\n",
              "      quickchartButtonEl.classList.remove('colab-df-spinner');\n",
              "      quickchartButtonEl.classList.add('colab-df-quickchart-complete');\n",
              "    }\n",
              "    (() => {\n",
              "      let quickchartButtonEl =\n",
              "        document.querySelector('#df-1183be30-8a82-427c-a5ac-b967b7c1c61c button');\n",
              "      quickchartButtonEl.style.display =\n",
              "        google.colab.kernel.accessAllowed ? 'block' : 'none';\n",
              "    })();\n",
              "  </script>\n",
              "</div>\n",
              "    </div>\n",
              "  </div>\n"
            ],
            "text/plain": [
              "                open           high            low          close  \\\n",
              "count  493307.000000  493307.000000  493307.000000  493307.000000   \n",
              "mean      117.974713     119.069481     116.843502     118.010262   \n",
              "std       815.562207     821.779284     808.093757     815.672372   \n",
              "min         1.180000       1.180000       1.150000       1.150000   \n",
              "25%        12.420000      12.560000      12.300000      12.430000   \n",
              "50%        23.130000      23.450000      22.850000      23.160000   \n",
              "75%        43.200000      43.900000      42.630000      43.220000   \n",
              "max     20634.860000   20966.580000   20368.530000   20634.860000   \n",
              "\n",
              "             volume  \n",
              "count  4.933070e+05  \n",
              "mean   3.152230e+06  \n",
              "std    2.257261e+07  \n",
              "min    1.000000e+00  \n",
              "25%    9.911200e+04  \n",
              "50%    3.694010e+05  \n",
              "75%    1.224636e+06  \n",
              "max    1.064570e+09  "
            ]
          },
          "execution_count": 50,
          "metadata": {},
          "output_type": "execute_result"
        }
      ],
      "source": [
        "#Check if there are outlier values by looking at the standard deviation and mean.\n",
        "df.describe()\n"
      ]
    },
    {
      "cell_type": "code",
      "execution_count": null,
      "id": "ZgnroV02XrrQ",
      "metadata": {
        "execution": {
          "iopub.execute_input": "2024-02-13T00:25:29.228614Z",
          "iopub.status.busy": "2024-02-13T00:25:29.227962Z",
          "iopub.status.idle": "2024-02-13T00:25:29.396513Z",
          "shell.execute_reply": "2024-02-13T00:25:29.395541Z",
          "shell.execute_reply.started": "2024-02-13T00:25:29.228583Z"
        },
        "id": "ZgnroV02XrrQ",
        "trusted": true
      },
      "outputs": [],
      "source": [
        "\n",
        "df['tiker'] = df['tiker'].astype(str)\n"
      ]
    },
    {
      "cell_type": "code",
      "execution_count": null,
      "id": "NOhEckQp-As7",
      "metadata": {
        "colab": {
          "base_uri": "https://localhost:8080/"
        },
        "execution": {
          "iopub.execute_input": "2024-02-13T00:25:31.970204Z",
          "iopub.status.busy": "2024-02-13T00:25:31.969489Z",
          "iopub.status.idle": "2024-02-13T00:25:32.022231Z",
          "shell.execute_reply": "2024-02-13T00:25:32.021192Z",
          "shell.execute_reply.started": "2024-02-13T00:25:31.970165Z"
        },
        "id": "NOhEckQp-As7",
        "outputId": "3dd619d2-c9e4-4f77-bcc3-bdba239953ba",
        "trusted": true
      },
      "outputs": [
        {
          "name": "stdout",
          "output_type": "stream",
          "text": [
            "['1010', '1020', '1030', '1050', '1060', '1080', '1120', '1140', '2010', '2020', '2030', '2040', '2050', '2060', '2070', '2080', '2090', '2100', '2110', '2120', '2130', '2140', '2150', '2160', '2170', '2180', '2190', '2200', '2210', '2220', '2230', '2240', '2250', '2270', '2280', '2290', '2300', '2310', '2320', '3010', '3020', '3030', '3040', '3050', '3060', '3080', '3090', '4010', '4020', '4030', '4040', '4050', '4061', '4070', '4080', '4090', '4100', '4110', '4130', '4140', '4150', '4170', '4180', '4190', '4200', '4210', '4220', '4230', '4240', '5110', '6010', '6020', '6040', '6050', '6060', '6070', '6090', '7010', '7020', '8010', 'TASI']\n"
          ]
        }
      ],
      "source": [
        "stock_Symbol_List = df['tiker'].unique().tolist()\n",
        "print(stock_Symbol_List)\n"
      ]
    },
    {
      "cell_type": "code",
      "execution_count": null,
      "id": "C7Gp9xHGsfDu",
      "metadata": {
        "execution": {
          "iopub.execute_input": "2024-02-13T00:25:34.642753Z",
          "iopub.status.busy": "2024-02-13T00:25:34.641769Z",
          "iopub.status.idle": "2024-02-13T00:25:34.656986Z",
          "shell.execute_reply": "2024-02-13T00:25:34.655773Z",
          "shell.execute_reply.started": "2024-02-13T00:25:34.642711Z"
        },
        "id": "C7Gp9xHGsfDu",
        "trusted": true
      },
      "outputs": [],
      "source": [
        "df=df[[\"close\",\"tiker\"]]"
      ]
    },
    {
      "cell_type": "code",
      "execution_count": null,
      "id": "9-stqTtvtHj-",
      "metadata": {
        "colab": {
          "base_uri": "https://localhost:8080/",
          "height": 455
        },
        "execution": {
          "iopub.execute_input": "2024-02-13T00:25:38.690360Z",
          "iopub.status.busy": "2024-02-13T00:25:38.689542Z",
          "iopub.status.idle": "2024-02-13T00:25:38.703392Z",
          "shell.execute_reply": "2024-02-13T00:25:38.702500Z",
          "shell.execute_reply.started": "2024-02-13T00:25:38.690325Z"
        },
        "id": "9-stqTtvtHj-",
        "outputId": "6a437310-628c-4bd5-95db-3b65f023f4e7",
        "trusted": true
      },
      "outputs": [
        {
          "data": {
            "application/vnd.google.colaboratory.intrinsic+json": {
              "type": "dataframe",
              "variable_name": "df"
            },
            "text/html": [
              "\n",
              "  <div id=\"df-8db38446-f9f1-44a3-985a-a75d2feaf103\" class=\"colab-df-container\">\n",
              "    <div>\n",
              "<style scoped>\n",
              "    .dataframe tbody tr th:only-of-type {\n",
              "        vertical-align: middle;\n",
              "    }\n",
              "\n",
              "    .dataframe tbody tr th {\n",
              "        vertical-align: top;\n",
              "    }\n",
              "\n",
              "    .dataframe thead th {\n",
              "        text-align: right;\n",
              "    }\n",
              "</style>\n",
              "<table border=\"1\" class=\"dataframe\">\n",
              "  <thead>\n",
              "    <tr style=\"text-align: right;\">\n",
              "      <th></th>\n",
              "      <th>close</th>\n",
              "      <th>tiker</th>\n",
              "    </tr>\n",
              "    <tr>\n",
              "      <th>date</th>\n",
              "      <th></th>\n",
              "      <th></th>\n",
              "    </tr>\n",
              "  </thead>\n",
              "  <tbody>\n",
              "    <tr>\n",
              "      <th>2021-05-06</th>\n",
              "      <td>24.42</td>\n",
              "      <td>1010</td>\n",
              "    </tr>\n",
              "    <tr>\n",
              "      <th>2021-05-05</th>\n",
              "      <td>24.80</td>\n",
              "      <td>1010</td>\n",
              "    </tr>\n",
              "    <tr>\n",
              "      <th>2021-05-04</th>\n",
              "      <td>24.90</td>\n",
              "      <td>1010</td>\n",
              "    </tr>\n",
              "    <tr>\n",
              "      <th>2021-05-03</th>\n",
              "      <td>25.45</td>\n",
              "      <td>1010</td>\n",
              "    </tr>\n",
              "    <tr>\n",
              "      <th>2021-05-02</th>\n",
              "      <td>25.90</td>\n",
              "      <td>1010</td>\n",
              "    </tr>\n",
              "    <tr>\n",
              "      <th>...</th>\n",
              "      <td>...</td>\n",
              "      <td>...</td>\n",
              "    </tr>\n",
              "    <tr>\n",
              "      <th>1994-02-01</th>\n",
              "      <td>1749.70</td>\n",
              "      <td>TASI</td>\n",
              "    </tr>\n",
              "    <tr>\n",
              "      <th>1994-01-31</th>\n",
              "      <td>1752.26</td>\n",
              "      <td>TASI</td>\n",
              "    </tr>\n",
              "    <tr>\n",
              "      <th>1994-01-30</th>\n",
              "      <td>1752.59</td>\n",
              "      <td>TASI</td>\n",
              "    </tr>\n",
              "    <tr>\n",
              "      <th>1994-01-29</th>\n",
              "      <td>1750.91</td>\n",
              "      <td>TASI</td>\n",
              "    </tr>\n",
              "    <tr>\n",
              "      <th>1994-01-26</th>\n",
              "      <td>1751.71</td>\n",
              "      <td>TASI</td>\n",
              "    </tr>\n",
              "  </tbody>\n",
              "</table>\n",
              "<p>493307 rows × 2 columns</p>\n",
              "</div>\n",
              "    <div class=\"colab-df-buttons\">\n",
              "\n",
              "  <div class=\"colab-df-container\">\n",
              "    <button class=\"colab-df-convert\" onclick=\"convertToInteractive('df-8db38446-f9f1-44a3-985a-a75d2feaf103')\"\n",
              "            title=\"Convert this dataframe to an interactive table.\"\n",
              "            style=\"display:none;\">\n",
              "\n",
              "  <svg xmlns=\"http://www.w3.org/2000/svg\" height=\"24px\" viewBox=\"0 -960 960 960\">\n",
              "    <path d=\"M120-120v-720h720v720H120Zm60-500h600v-160H180v160Zm220 220h160v-160H400v160Zm0 220h160v-160H400v160ZM180-400h160v-160H180v160Zm440 0h160v-160H620v160ZM180-180h160v-160H180v160Zm440 0h160v-160H620v160Z\"/>\n",
              "  </svg>\n",
              "    </button>\n",
              "\n",
              "  <style>\n",
              "    .colab-df-container {\n",
              "      display:flex;\n",
              "      gap: 12px;\n",
              "    }\n",
              "\n",
              "    .colab-df-convert {\n",
              "      background-color: #E8F0FE;\n",
              "      border: none;\n",
              "      border-radius: 50%;\n",
              "      cursor: pointer;\n",
              "      display: none;\n",
              "      fill: #1967D2;\n",
              "      height: 32px;\n",
              "      padding: 0 0 0 0;\n",
              "      width: 32px;\n",
              "    }\n",
              "\n",
              "    .colab-df-convert:hover {\n",
              "      background-color: #E2EBFA;\n",
              "      box-shadow: 0px 1px 2px rgba(60, 64, 67, 0.3), 0px 1px 3px 1px rgba(60, 64, 67, 0.15);\n",
              "      fill: #174EA6;\n",
              "    }\n",
              "\n",
              "    .colab-df-buttons div {\n",
              "      margin-bottom: 4px;\n",
              "    }\n",
              "\n",
              "    [theme=dark] .colab-df-convert {\n",
              "      background-color: #3B4455;\n",
              "      fill: #D2E3FC;\n",
              "    }\n",
              "\n",
              "    [theme=dark] .colab-df-convert:hover {\n",
              "      background-color: #434B5C;\n",
              "      box-shadow: 0px 1px 3px 1px rgba(0, 0, 0, 0.15);\n",
              "      filter: drop-shadow(0px 1px 2px rgba(0, 0, 0, 0.3));\n",
              "      fill: #FFFFFF;\n",
              "    }\n",
              "  </style>\n",
              "\n",
              "    <script>\n",
              "      const buttonEl =\n",
              "        document.querySelector('#df-8db38446-f9f1-44a3-985a-a75d2feaf103 button.colab-df-convert');\n",
              "      buttonEl.style.display =\n",
              "        google.colab.kernel.accessAllowed ? 'block' : 'none';\n",
              "\n",
              "      async function convertToInteractive(key) {\n",
              "        const element = document.querySelector('#df-8db38446-f9f1-44a3-985a-a75d2feaf103');\n",
              "        const dataTable =\n",
              "          await google.colab.kernel.invokeFunction('convertToInteractive',\n",
              "                                                    [key], {});\n",
              "        if (!dataTable) return;\n",
              "\n",
              "        const docLinkHtml = 'Like what you see? Visit the ' +\n",
              "          '<a target=\"_blank\" href=https://colab.research.google.com/notebooks/data_table.ipynb>data table notebook</a>'\n",
              "          + ' to learn more about interactive tables.';\n",
              "        element.innerHTML = '';\n",
              "        dataTable['output_type'] = 'display_data';\n",
              "        await google.colab.output.renderOutput(dataTable, element);\n",
              "        const docLink = document.createElement('div');\n",
              "        docLink.innerHTML = docLinkHtml;\n",
              "        element.appendChild(docLink);\n",
              "      }\n",
              "    </script>\n",
              "  </div>\n",
              "\n",
              "\n",
              "<div id=\"df-6f649e4a-0b46-4e9e-b0be-a4c44fabb12f\">\n",
              "  <button class=\"colab-df-quickchart\" onclick=\"quickchart('df-6f649e4a-0b46-4e9e-b0be-a4c44fabb12f')\"\n",
              "            title=\"Suggest charts\"\n",
              "            style=\"display:none;\">\n",
              "\n",
              "<svg xmlns=\"http://www.w3.org/2000/svg\" height=\"24px\"viewBox=\"0 0 24 24\"\n",
              "     width=\"24px\">\n",
              "    <g>\n",
              "        <path d=\"M19 3H5c-1.1 0-2 .9-2 2v14c0 1.1.9 2 2 2h14c1.1 0 2-.9 2-2V5c0-1.1-.9-2-2-2zM9 17H7v-7h2v7zm4 0h-2V7h2v10zm4 0h-2v-4h2v4z\"/>\n",
              "    </g>\n",
              "</svg>\n",
              "  </button>\n",
              "\n",
              "<style>\n",
              "  .colab-df-quickchart {\n",
              "      --bg-color: #E8F0FE;\n",
              "      --fill-color: #1967D2;\n",
              "      --hover-bg-color: #E2EBFA;\n",
              "      --hover-fill-color: #174EA6;\n",
              "      --disabled-fill-color: #AAA;\n",
              "      --disabled-bg-color: #DDD;\n",
              "  }\n",
              "\n",
              "  [theme=dark] .colab-df-quickchart {\n",
              "      --bg-color: #3B4455;\n",
              "      --fill-color: #D2E3FC;\n",
              "      --hover-bg-color: #434B5C;\n",
              "      --hover-fill-color: #FFFFFF;\n",
              "      --disabled-bg-color: #3B4455;\n",
              "      --disabled-fill-color: #666;\n",
              "  }\n",
              "\n",
              "  .colab-df-quickchart {\n",
              "    background-color: var(--bg-color);\n",
              "    border: none;\n",
              "    border-radius: 50%;\n",
              "    cursor: pointer;\n",
              "    display: none;\n",
              "    fill: var(--fill-color);\n",
              "    height: 32px;\n",
              "    padding: 0;\n",
              "    width: 32px;\n",
              "  }\n",
              "\n",
              "  .colab-df-quickchart:hover {\n",
              "    background-color: var(--hover-bg-color);\n",
              "    box-shadow: 0 1px 2px rgba(60, 64, 67, 0.3), 0 1px 3px 1px rgba(60, 64, 67, 0.15);\n",
              "    fill: var(--button-hover-fill-color);\n",
              "  }\n",
              "\n",
              "  .colab-df-quickchart-complete:disabled,\n",
              "  .colab-df-quickchart-complete:disabled:hover {\n",
              "    background-color: var(--disabled-bg-color);\n",
              "    fill: var(--disabled-fill-color);\n",
              "    box-shadow: none;\n",
              "  }\n",
              "\n",
              "  .colab-df-spinner {\n",
              "    border: 2px solid var(--fill-color);\n",
              "    border-color: transparent;\n",
              "    border-bottom-color: var(--fill-color);\n",
              "    animation:\n",
              "      spin 1s steps(1) infinite;\n",
              "  }\n",
              "\n",
              "  @keyframes spin {\n",
              "    0% {\n",
              "      border-color: transparent;\n",
              "      border-bottom-color: var(--fill-color);\n",
              "      border-left-color: var(--fill-color);\n",
              "    }\n",
              "    20% {\n",
              "      border-color: transparent;\n",
              "      border-left-color: var(--fill-color);\n",
              "      border-top-color: var(--fill-color);\n",
              "    }\n",
              "    30% {\n",
              "      border-color: transparent;\n",
              "      border-left-color: var(--fill-color);\n",
              "      border-top-color: var(--fill-color);\n",
              "      border-right-color: var(--fill-color);\n",
              "    }\n",
              "    40% {\n",
              "      border-color: transparent;\n",
              "      border-right-color: var(--fill-color);\n",
              "      border-top-color: var(--fill-color);\n",
              "    }\n",
              "    60% {\n",
              "      border-color: transparent;\n",
              "      border-right-color: var(--fill-color);\n",
              "    }\n",
              "    80% {\n",
              "      border-color: transparent;\n",
              "      border-right-color: var(--fill-color);\n",
              "      border-bottom-color: var(--fill-color);\n",
              "    }\n",
              "    90% {\n",
              "      border-color: transparent;\n",
              "      border-bottom-color: var(--fill-color);\n",
              "    }\n",
              "  }\n",
              "</style>\n",
              "\n",
              "  <script>\n",
              "    async function quickchart(key) {\n",
              "      const quickchartButtonEl =\n",
              "        document.querySelector('#' + key + ' button');\n",
              "      quickchartButtonEl.disabled = true;  // To prevent multiple clicks.\n",
              "      quickchartButtonEl.classList.add('colab-df-spinner');\n",
              "      try {\n",
              "        const charts = await google.colab.kernel.invokeFunction(\n",
              "            'suggestCharts', [key], {});\n",
              "      } catch (error) {\n",
              "        console.error('Error during call to suggestCharts:', error);\n",
              "      }\n",
              "      quickchartButtonEl.classList.remove('colab-df-spinner');\n",
              "      quickchartButtonEl.classList.add('colab-df-quickchart-complete');\n",
              "    }\n",
              "    (() => {\n",
              "      let quickchartButtonEl =\n",
              "        document.querySelector('#df-6f649e4a-0b46-4e9e-b0be-a4c44fabb12f button');\n",
              "      quickchartButtonEl.style.display =\n",
              "        google.colab.kernel.accessAllowed ? 'block' : 'none';\n",
              "    })();\n",
              "  </script>\n",
              "</div>\n",
              "    </div>\n",
              "  </div>\n"
            ],
            "text/plain": [
              "              close tiker\n",
              "date                     \n",
              "2021-05-06    24.42  1010\n",
              "2021-05-05    24.80  1010\n",
              "2021-05-04    24.90  1010\n",
              "2021-05-03    25.45  1010\n",
              "2021-05-02    25.90  1010\n",
              "...             ...   ...\n",
              "1994-02-01  1749.70  TASI\n",
              "1994-01-31  1752.26  TASI\n",
              "1994-01-30  1752.59  TASI\n",
              "1994-01-29  1750.91  TASI\n",
              "1994-01-26  1751.71  TASI\n",
              "\n",
              "[493307 rows x 2 columns]"
            ]
          },
          "execution_count": 54,
          "metadata": {},
          "output_type": "execute_result"
        }
      ],
      "source": [
        "df"
      ]
    },
    {
      "cell_type": "code",
      "execution_count": null,
      "id": "z4fxsh8vxqYp",
      "metadata": {
        "execution": {
          "iopub.execute_input": "2024-02-13T00:25:48.735016Z",
          "iopub.status.busy": "2024-02-13T00:25:48.734400Z",
          "iopub.status.idle": "2024-02-13T00:25:48.817207Z",
          "shell.execute_reply": "2024-02-13T00:25:48.816182Z",
          "shell.execute_reply.started": "2024-02-13T00:25:48.734985Z"
        },
        "id": "z4fxsh8vxqYp",
        "trusted": true
      },
      "outputs": [],
      "source": [
        "\n",
        "df.sort_index(ascending=True,inplace=True)\n"
      ]
    },
    {
      "cell_type": "markdown",
      "id": "0lJF2zb50ulZ",
      "metadata": {
        "id": "0lJF2zb50ulZ"
      },
      "source": [
        "lets we show some stock datetime index"
      ]
    },
    {
      "cell_type": "markdown",
      "id": "KODSPrAh07VY",
      "metadata": {
        "id": "KODSPrAh07VY"
      },
      "source": [
        "As we see above ⏮ the dataset you provided, the dates are not continuous, and there are missing dates. This irregularity in the frequency of the data can make it challenging to directly apply ARIMA modeling, which typically assumes a regular frequency."
      ]
    },
    {
      "cell_type": "markdown",
      "id": "btx0fUikCG_b",
      "metadata": {
        "id": "btx0fUikCG_b"
      },
      "source": [
        "Note: In the following section, we will work with the \"**ticker**\" column as the number of stocks in our dataset."
      ]
    },
    {
      "cell_type": "markdown",
      "id": "BqzYNnyc-05D",
      "metadata": {
        "id": "BqzYNnyc-05D"
      },
      "source": [
        "**Analyse and Visualize**"
      ]
    },
    {
      "cell_type": "code",
      "execution_count": null,
      "id": "YILEAIPrfGPS",
      "metadata": {
        "execution": {
          "iopub.execute_input": "2024-02-13T00:26:15.885235Z",
          "iopub.status.busy": "2024-02-13T00:26:15.884497Z",
          "iopub.status.idle": "2024-02-13T00:26:15.916388Z",
          "shell.execute_reply": "2024-02-13T00:26:15.915565Z",
          "shell.execute_reply.started": "2024-02-13T00:26:15.885205Z"
        },
        "id": "YILEAIPrfGPS",
        "trusted": true
      },
      "outputs": [],
      "source": [
        "df.index=pd.to_datetime(df.index)"
      ]
    },
    {
      "cell_type": "code",
      "execution_count": null,
      "id": "qHYfoeUMsIkg",
      "metadata": {
        "execution": {
          "iopub.execute_input": "2024-02-13T00:26:24.242696Z",
          "iopub.status.busy": "2024-02-13T00:26:24.242043Z",
          "iopub.status.idle": "2024-02-13T00:26:24.271991Z",
          "shell.execute_reply": "2024-02-13T00:26:24.271073Z",
          "shell.execute_reply.started": "2024-02-13T00:26:24.242666Z"
        },
        "id": "qHYfoeUMsIkg",
        "trusted": true
      },
      "outputs": [],
      "source": [
        "yearly_counts = df.groupby(df.index.year).size()"
      ]
    },
    {
      "cell_type": "code",
      "execution_count": null,
      "id": "otvZ5J63salH",
      "metadata": {
        "colab": {
          "base_uri": "https://localhost:8080/"
        },
        "execution": {
          "iopub.execute_input": "2024-02-13T00:26:27.474425Z",
          "iopub.status.busy": "2024-02-13T00:26:27.474069Z",
          "iopub.status.idle": "2024-02-13T00:26:27.480951Z",
          "shell.execute_reply": "2024-02-13T00:26:27.480018Z",
          "shell.execute_reply.started": "2024-02-13T00:26:27.474399Z"
        },
        "id": "otvZ5J63salH",
        "outputId": "a5439db7-2a7d-4b11-a264-23511bfb5721",
        "trusted": true
      },
      "outputs": [
        {
          "data": {
            "text/plain": [
              "date\n",
              "1993     8490\n",
              "1994    10605\n",
              "1995    11676\n",
              "1996    12130\n",
              "1997    13431\n",
              "1998    12836\n",
              "1999    13157\n",
              "2000    14011\n",
              "2001    14337\n",
              "2002    15886\n",
              "2003    17825\n",
              "2004    19784\n",
              "2005    21027\n",
              "2006    20033\n",
              "2007    19839\n",
              "2008    20167\n",
              "2009    20124\n",
              "2010    20169\n",
              "2011    20088\n",
              "2012    20328\n",
              "2013    19906\n",
              "2014    19996\n",
              "2015    19982\n",
              "2016    19819\n",
              "2017    19841\n",
              "2018    20071\n",
              "2019    20222\n",
              "2020    20252\n",
              "2021     7275\n",
              "dtype: int64"
            ]
          },
          "execution_count": 58,
          "metadata": {},
          "output_type": "execute_result"
        }
      ],
      "source": [
        "yearly_counts"
      ]
    },
    {
      "cell_type": "markdown",
      "id": "ql_g6vr9800T",
      "metadata": {
        "id": "ql_g6vr9800T"
      },
      "source": [
        "Visualize the stock’s daily closing price."
      ]
    },
    {
      "cell_type": "code",
      "execution_count": null,
      "id": "lHRXUcmvwPy5",
      "metadata": {
        "execution": {
          "iopub.execute_input": "2024-02-13T00:26:31.514401Z",
          "iopub.status.busy": "2024-02-13T00:26:31.513488Z",
          "iopub.status.idle": "2024-02-13T00:26:31.528386Z",
          "shell.execute_reply": "2024-02-13T00:26:31.527310Z",
          "shell.execute_reply.started": "2024-02-13T00:26:31.514363Z"
        },
        "id": "lHRXUcmvwPy5",
        "trusted": true
      },
      "outputs": [],
      "source": [
        "filtered_df=df.copy()"
      ]
    },
    {
      "cell_type": "code",
      "execution_count": null,
      "id": "0T0Mq9qlkREU",
      "metadata": {
        "execution": {
          "iopub.execute_input": "2024-02-12T22:21:48.551113Z",
          "iopub.status.busy": "2024-02-12T22:21:48.550831Z",
          "iopub.status.idle": "2024-02-12T22:21:48.554764Z",
          "shell.execute_reply": "2024-02-12T22:21:48.553957Z",
          "shell.execute_reply.started": "2024-02-12T22:21:48.551091Z"
        },
        "id": "0T0Mq9qlkREU",
        "trusted": true
      },
      "outputs": [],
      "source": [
        "# stock_Symbol_List=['1010']"
      ]
    },
    {
      "cell_type": "code",
      "execution_count": null,
      "id": "GORBMjsQFplo",
      "metadata": {
        "execution": {
          "iopub.execute_input": "2024-02-12T23:04:13.130278Z",
          "iopub.status.busy": "2024-02-12T23:04:13.129919Z",
          "iopub.status.idle": "2024-02-12T23:04:13.136125Z",
          "shell.execute_reply": "2024-02-12T23:04:13.135216Z",
          "shell.execute_reply.started": "2024-02-12T23:04:13.130247Z"
        },
        "id": "GORBMjsQFplo",
        "trusted": true
      },
      "outputs": [],
      "source": [
        "# Plot closing prices for multiple stocks\n",
        "# def Plot_closing_prices(stock_symbol,New_df=df):\n",
        "#     plt.figure(figsize=(8, 4))\n",
        "#     plt.plot(New_df[New_df['tiker'] == stock_symbol][\"close\"])\n",
        "#     plt.ylabel(\"Price\")\n",
        "#     plt.xlabel(\"Date\")\n",
        "#     plt.title(str(i) + \" Closing Stock Price\")\n",
        "#     plt.show()\n",
        "\n",
        "\n",
        "# for i in stock_Symbol_List:\n",
        "#   Plot_closing_prices(i)\n",
        "\n"
      ]
    },
    {
      "cell_type": "code",
      "execution_count": null,
      "id": "DxU2ve9CK6UO",
      "metadata": {
        "id": "DxU2ve9CK6UO"
      },
      "outputs": [],
      "source": [
        "from statsmodels.tools.sm_exceptions import ValueWarning\n",
        "warnings.simplefilter('ignore', ValueWarning)"
      ]
    },
    {
      "cell_type": "code",
      "execution_count": null,
      "id": "vfbmk0j74R5i",
      "metadata": {
        "execution": {
          "iopub.execute_input": "2024-02-13T00:26:45.404932Z",
          "iopub.status.busy": "2024-02-13T00:26:45.404048Z",
          "iopub.status.idle": "2024-02-13T00:26:45.409263Z",
          "shell.execute_reply": "2024-02-13T00:26:45.408341Z",
          "shell.execute_reply.started": "2024-02-13T00:26:45.404900Z"
        },
        "id": "vfbmk0j74R5i",
        "trusted": true
      },
      "outputs": [],
      "source": [
        "def resample_monthly_mean(df_data):\n",
        "\n",
        "   # Resample to monthly frequency\n",
        "   monthly = df_data['close'].resample('M').mean()\n",
        "\n",
        "   # Forward fill to fill in missing values\n",
        "   monthly_filled = monthly.ffill()\n",
        "\n",
        "   return monthly_filled\n"
      ]
    },
    {
      "cell_type": "code",
      "execution_count": null,
      "id": "eOfttkkm9hHe",
      "metadata": {
        "execution": {
          "iopub.execute_input": "2024-02-13T00:26:51.819069Z",
          "iopub.status.busy": "2024-02-13T00:26:51.818711Z",
          "iopub.status.idle": "2024-02-13T00:26:51.823360Z",
          "shell.execute_reply": "2024-02-13T00:26:51.822377Z",
          "shell.execute_reply.started": "2024-02-13T00:26:51.819039Z"
        },
        "id": "eOfttkkm9hHe",
        "trusted": true
      },
      "outputs": [],
      "source": [
        "from matplotlib.dates import YearLocator"
      ]
    },
    {
      "cell_type": "code",
      "execution_count": null,
      "id": "9wJclYnsErvX",
      "metadata": {
        "colab": {
          "base_uri": "https://localhost:8080/"
        },
        "execution": {
          "iopub.execute_input": "2024-02-13T00:26:54.292968Z",
          "iopub.status.busy": "2024-02-13T00:26:54.292617Z",
          "iopub.status.idle": "2024-02-13T00:26:54.363366Z",
          "shell.execute_reply": "2024-02-13T00:26:54.362461Z",
          "shell.execute_reply.started": "2024-02-13T00:26:54.292941Z"
        },
        "id": "9wJclYnsErvX",
        "outputId": "d5e7e825-d025-4fdf-9b0b-a7dc44f83926",
        "trusted": true
      },
      "outputs": [
        {
          "data": {
            "text/plain": [
              "close    0\n",
              "tiker    0\n",
              "dtype: int64"
            ]
          },
          "execution_count": 65,
          "metadata": {},
          "output_type": "execute_result"
        }
      ],
      "source": [
        "filtered_df.isnull().sum()"
      ]
    },
    {
      "cell_type": "code",
      "execution_count": null,
      "id": "gkiwWKf3MEf_",
      "metadata": {
        "execution": {
          "iopub.execute_input": "2024-02-12T22:21:48.674688Z",
          "iopub.status.busy": "2024-02-12T22:21:48.674388Z",
          "iopub.status.idle": "2024-02-12T22:22:21.579533Z",
          "shell.execute_reply": "2024-02-12T22:22:21.578620Z",
          "shell.execute_reply.started": "2024-02-12T22:21:48.674665Z"
        },
        "id": "gkiwWKf3MEf_",
        "trusted": true
      },
      "outputs": [],
      "source": [
        "stock_resample={}\n",
        "#y = stock['Close'].resample('M').mean()\n",
        "for i in stock_Symbol_List:\n",
        "  df_monthly_mean=resample_monthly_mean(filtered_df[df['tiker']==i][['close']])\n",
        "  stock_resample[i]=df_monthly_mean\n",
        "  # df_monthly_mean.plot(figsize=(15, 8))\n",
        "  # plt.title('Stock  ' + str(i)+  '  resample to year')\n",
        "  # plt.show()\n"
      ]
    },
    {
      "cell_type": "code",
      "execution_count": null,
      "id": "r-5CNTcjFEZk",
      "metadata": {
        "execution": {
          "iopub.execute_input": "2024-02-12T22:22:21.580965Z",
          "iopub.status.busy": "2024-02-12T22:22:21.580673Z",
          "iopub.status.idle": "2024-02-12T22:22:21.585126Z",
          "shell.execute_reply": "2024-02-12T22:22:21.584206Z",
          "shell.execute_reply.started": "2024-02-12T22:22:21.580940Z"
        },
        "id": "r-5CNTcjFEZk",
        "trusted": true
      },
      "outputs": [],
      "source": [
        "# filtered_df[filtered_df['tiker']=='2090'][['close']]"
      ]
    },
    {
      "cell_type": "code",
      "execution_count": null,
      "id": "Glr0tezd7Foq",
      "metadata": {
        "execution": {
          "iopub.execute_input": "2024-02-13T00:27:40.125806Z",
          "iopub.status.busy": "2024-02-13T00:27:40.125437Z",
          "iopub.status.idle": "2024-02-13T00:27:40.135768Z",
          "shell.execute_reply": "2024-02-13T00:27:40.134736Z",
          "shell.execute_reply.started": "2024-02-13T00:27:40.125780Z"
        },
        "id": "Glr0tezd7Foq",
        "trusted": true
      },
      "outputs": [],
      "source": [
        "# Convert the dictionary to a DataFrame\n",
        "df_monthly = pd.concat(stock_resample.values(), keys=stock_resample.keys())\n"
      ]
    },
    {
      "cell_type": "code",
      "execution_count": null,
      "id": "Gv4NqHu4_dPc",
      "metadata": {
        "colab": {
          "base_uri": "https://localhost:8080/"
        },
        "execution": {
          "iopub.execute_input": "2024-02-13T00:27:43.210081Z",
          "iopub.status.busy": "2024-02-13T00:27:43.209495Z",
          "iopub.status.idle": "2024-02-13T00:27:43.216379Z",
          "shell.execute_reply": "2024-02-13T00:27:43.215543Z",
          "shell.execute_reply.started": "2024-02-13T00:27:43.210053Z"
        },
        "id": "Gv4NqHu4_dPc",
        "outputId": "69cf79f9-fe4d-4d25-db63-2e6fe0fa4b25",
        "trusted": true
      },
      "outputs": [
        {
          "data": {
            "text/plain": [
              "0"
            ]
          },
          "execution_count": 69,
          "metadata": {},
          "output_type": "execute_result"
        }
      ],
      "source": [
        "df_monthly.isnull().sum()"
      ]
    },
    {
      "cell_type": "markdown",
      "id": "x9Ve2D-DNb_9",
      "metadata": {
        "id": "x9Ve2D-DNb_9"
      },
      "source": [
        "Some distinguishable patterns emerge when we plot the data. The time-series exhibits a seasonal pattern.\n",
        "\n",
        "We can further visualize our data using a technique called time-series decomposition. This method enables us to break down our time series into three distinct components: trend, seasonality, and noise."
      ]
    },
    {
      "cell_type": "code",
      "execution_count": null,
      "id": "RfVJxQDjLDpC",
      "metadata": {
        "colab": {
          "base_uri": "https://localhost:8080/"
        },
        "execution": {
          "iopub.execute_input": "2024-02-13T00:27:46.861168Z",
          "iopub.status.busy": "2024-02-13T00:27:46.860800Z",
          "iopub.status.idle": "2024-02-13T00:27:46.869530Z",
          "shell.execute_reply": "2024-02-13T00:27:46.868547Z",
          "shell.execute_reply.started": "2024-02-13T00:27:46.861139Z"
        },
        "id": "RfVJxQDjLDpC",
        "outputId": "21fed2ae-3baa-476a-ab85-37b0cbb2f321",
        "trusted": true
      },
      "outputs": [
        {
          "data": {
            "text/plain": [
              "      date      \n",
              "1010  1993-01-31        7.247143\n",
              "      1993-02-28        7.243000\n",
              "      1993-03-31        7.365000\n",
              "      1993-04-30        7.306000\n",
              "      1993-05-31        6.833500\n",
              "                        ...     \n",
              "TASI  2021-01-31     8808.448571\n",
              "      2021-02-28     8938.093500\n",
              "      2021-03-31     9497.363913\n",
              "      2021-04-30    10068.667619\n",
              "      2021-05-31    10294.864000\n",
              "Name: close, Length: 24164, dtype: float64"
            ]
          },
          "execution_count": 70,
          "metadata": {},
          "output_type": "execute_result"
        }
      ],
      "source": [
        "df_monthly"
      ]
    },
    {
      "cell_type": "code",
      "execution_count": null,
      "id": "sWYdVhuROHSv",
      "metadata": {
        "execution": {
          "iopub.execute_input": "2024-02-13T00:27:52.237453Z",
          "iopub.status.busy": "2024-02-13T00:27:52.237073Z",
          "iopub.status.idle": "2024-02-13T00:27:53.408473Z",
          "shell.execute_reply": "2024-02-13T00:27:53.407645Z",
          "shell.execute_reply.started": "2024-02-13T00:27:52.237425Z"
        },
        "id": "sWYdVhuROHSv",
        "trusted": true
      },
      "outputs": [],
      "source": [
        "import statsmodels.api as sm"
      ]
    },
    {
      "cell_type": "code",
      "execution_count": null,
      "id": "6Ttz8UkEN3zj",
      "metadata": {
        "execution": {
          "iopub.execute_input": "2024-02-12T22:22:22.791163Z",
          "iopub.status.busy": "2024-02-12T22:22:22.790726Z"
        },
        "id": "6Ttz8UkEN3zj",
        "trusted": true
      },
      "outputs": [],
      "source": [
        "# from pylab import rcParams\n",
        "# def plot_decompostion(data,stock):\n",
        "#   rcParams['figure.figsize'] = 18, 8\n",
        "#   decomposition = sm.tsa.seasonal_decompose(data, model='additive')\n",
        "#   fig = decomposition.plot()\n",
        "#   plt.title(str(stock))\n",
        "#   plt.show()\n",
        "\n",
        "# for i in stock_Symbol_List:\n",
        "#         plot_decompostion(df_monthly[i],i)"
      ]
    },
    {
      "cell_type": "markdown",
      "id": "gcl1IprpO4eT",
      "metadata": {
        "id": "gcl1IprpO4eT"
      },
      "source": [
        "The plot above clearly shows the instability of the Close price, as well as its noticeable seasonality."
      ]
    },
    {
      "cell_type": "markdown",
      "id": "jtjelmLjRfRI",
      "metadata": {
        "id": "jtjelmLjRfRI"
      },
      "source": [
        "**Time Series Forecasting with ARIMA**"
      ]
    },
    {
      "cell_type": "markdown",
      "id": "JwLYJYXzRdEu",
      "metadata": {
        "id": "JwLYJYXzRdEu"
      },
      "source": [
        "\n",
        "\n",
        "In this analysis, we'll explore one of the most widely used methods for time-series forecasting: ARIMA, which stands for Autoregressive Integrated Moving Average.\n",
        "\n",
        "Parameter Selection for the ARIMA Time Series Model\n",
        "\n",
        "ARIMA models are denoted with the notation ARIMA(p, d, q). These three parameters are crucial for capturing seasonality, trend, and noise in the data."
      ]
    },
    {
      "cell_type": "code",
      "execution_count": null,
      "id": "LD6G1lB1qG9T",
      "metadata": {
        "colab": {
          "base_uri": "https://localhost:8080/"
        },
        "execution": {
          "iopub.execute_input": "2024-02-13T00:28:00.458700Z",
          "iopub.status.busy": "2024-02-13T00:28:00.458162Z",
          "iopub.status.idle": "2024-02-13T00:28:00.467000Z",
          "shell.execute_reply": "2024-02-13T00:28:00.466112Z",
          "shell.execute_reply.started": "2024-02-13T00:28:00.458673Z"
        },
        "id": "LD6G1lB1qG9T",
        "outputId": "32c50618-bb1c-429c-a53e-fcd3f5f7e70e",
        "trusted": true
      },
      "outputs": [
        {
          "data": {
            "text/plain": [
              "MultiIndex([('1010', '1993-01-31'),\n",
              "            ('1010', '1993-02-28'),\n",
              "            ('1010', '1993-03-31'),\n",
              "            ('1010', '1993-04-30'),\n",
              "            ('1010', '1993-05-31'),\n",
              "            ('1010', '1993-06-30'),\n",
              "            ('1010', '1993-07-31'),\n",
              "            ('1010', '1993-08-31'),\n",
              "            ('1010', '1993-09-30'),\n",
              "            ('1010', '1993-10-31'),\n",
              "            ...\n",
              "            ('TASI', '2020-08-31'),\n",
              "            ('TASI', '2020-09-30'),\n",
              "            ('TASI', '2020-10-31'),\n",
              "            ('TASI', '2020-11-30'),\n",
              "            ('TASI', '2020-12-31'),\n",
              "            ('TASI', '2021-01-31'),\n",
              "            ('TASI', '2021-02-28'),\n",
              "            ('TASI', '2021-03-31'),\n",
              "            ('TASI', '2021-04-30'),\n",
              "            ('TASI', '2021-05-31')],\n",
              "           names=[None, 'date'], length=24164)"
            ]
          },
          "execution_count": 73,
          "metadata": {},
          "output_type": "execute_result"
        }
      ],
      "source": [
        "df_monthly.keys()"
      ]
    },
    {
      "cell_type": "code",
      "execution_count": null,
      "id": "QGyjKRLLPsaN",
      "metadata": {
        "execution": {
          "iopub.execute_input": "2024-02-13T00:28:04.863762Z",
          "iopub.status.busy": "2024-02-13T00:28:04.862890Z",
          "iopub.status.idle": "2024-02-13T00:28:04.867580Z",
          "shell.execute_reply": "2024-02-13T00:28:04.866659Z",
          "shell.execute_reply.started": "2024-02-13T00:28:04.863727Z"
        },
        "id": "QGyjKRLLPsaN",
        "trusted": true
      },
      "outputs": [],
      "source": [
        "import itertools\n"
      ]
    },
    {
      "cell_type": "code",
      "execution_count": null,
      "id": "fl2hsPnFS2lF",
      "metadata": {
        "execution": {
          "iopub.execute_input": "2024-02-13T00:32:22.047883Z",
          "iopub.status.busy": "2024-02-13T00:32:22.047254Z",
          "iopub.status.idle": "2024-02-13T00:32:22.055281Z",
          "shell.execute_reply": "2024-02-13T00:32:22.054455Z",
          "shell.execute_reply.started": "2024-02-13T00:32:22.047850Z"
        },
        "id": "fl2hsPnFS2lF",
        "trusted": true
      },
      "outputs": [],
      "source": [
        "p = d = q = range(0, 2)\n",
        "param_combinations = list(itertools.product(p, d, q))\n",
        "seasonal_pdq = [(x[0], x[1], x[2], 12) for x in list(itertools.product(p, d, q))]"
      ]
    },
    {
      "cell_type": "code",
      "execution_count": null,
      "id": "mggR6g10S79p",
      "metadata": {
        "execution": {
          "iopub.execute_input": "2024-02-13T00:32:34.277194Z",
          "iopub.status.busy": "2024-02-13T00:32:34.276749Z",
          "iopub.status.idle": "2024-02-13T00:32:34.285194Z",
          "shell.execute_reply": "2024-02-13T00:32:34.284058Z",
          "shell.execute_reply.started": "2024-02-13T00:32:34.277139Z"
        },
        "id": "mggR6g10S79p",
        "trusted": true
      },
      "outputs": [],
      "source": [
        "\n",
        "\n",
        "def find_optimal_sarimax_params(data_monthly_mean):\n",
        "    param_list = []\n",
        "    param_seasonal_list = []\n",
        "    results_aic_list = []\n",
        "    for param in param_combinations:\n",
        "        for param_seasonal in seasonal_pdq:\n",
        "            try:\n",
        "                mod = sm.tsa.statespace.SARIMAX(data_monthly_mean,\n",
        "                                                order=param,\n",
        "                                                seasonal_order=param_seasonal,\n",
        "                                                enforce_stationarity=False,\n",
        "                                                enforce_invertibility=False)\n",
        "\n",
        "                results = mod.fit()\n",
        "\n",
        "                # print('ARIMA{}x{}12 - AIC:{}'.format(param, param_seasonal, results.aic))\n",
        "\n",
        "                param_list.append(param)\n",
        "                param_seasonal_list.append(param_seasonal)\n",
        "                results_aic_list.append(results.aic)\n",
        "            except:\n",
        "                continue\n",
        "\n",
        "    return param_list, param_seasonal_list, results_aic_list\n"
      ]
    },
    {
      "cell_type": "code",
      "execution_count": null,
      "id": "5ThjsPt4bxbd",
      "metadata": {
        "execution": {
          "iopub.execute_input": "2024-02-13T00:32:30.388549Z",
          "iopub.status.busy": "2024-02-13T00:32:30.388139Z",
          "iopub.status.idle": "2024-02-13T00:32:30.394092Z",
          "shell.execute_reply": "2024-02-13T00:32:30.393059Z",
          "shell.execute_reply.started": "2024-02-13T00:32:30.388518Z"
        },
        "id": "5ThjsPt4bxbd",
        "trusted": true
      },
      "outputs": [],
      "source": [
        "def get_best_aic(results_list):\n",
        "  best_aic = results_list[0]\n",
        "  for aic in results_list[1:]:\n",
        "      if aic < best_aic:\n",
        "         best_aic = aic\n",
        "  best_index = results_list.index(best_aic)\n",
        "  return best_index\n"
      ]
    },
    {
      "cell_type": "code",
      "execution_count": null,
      "id": "2pwo9XvQcVdb",
      "metadata": {
        "execution": {
          "iopub.execute_input": "2024-02-13T00:32:39.157181Z",
          "iopub.status.busy": "2024-02-13T00:32:39.156804Z",
          "iopub.status.idle": "2024-02-13T00:32:39.162987Z",
          "shell.execute_reply": "2024-02-13T00:32:39.162148Z",
          "shell.execute_reply.started": "2024-02-13T00:32:39.157138Z"
        },
        "id": "2pwo9XvQcVdb",
        "trusted": true
      },
      "outputs": [],
      "source": [
        "def train_sarimax_model(data_monthly_mean):\n",
        "    param_list, param_seasonal_list, results_aic_list=find_optimal_sarimax_params(data_monthly_mean)\n",
        "    prem=get_best_aic(results_aic_list)\n",
        "    best_order = param_list[prem]\n",
        "\n",
        "    best_seasonal_order = param_seasonal_list[get_best_aic(results_aic_list)]\n",
        "\n",
        "    best_model = sm.tsa.statespace.SARIMAX(data_monthly_mean,\n",
        "                                       order=best_order,\n",
        "                                       seasonal_order=best_seasonal_order,\n",
        "                                       enforce_stationarity=False,\n",
        "                                       enforce_invertibility=False)\n",
        "\n",
        "    best_results = best_model.fit()\n",
        "    return best_results\n",
        "\n",
        "\n",
        "\n"
      ]
    },
    {
      "cell_type": "code",
      "execution_count": null,
      "id": "WpnBFvQicAGY",
      "metadata": {
        "id": "WpnBFvQicAGY"
      },
      "outputs": [],
      "source": [
        "models_path='/content/drive/MyDrive/ARIMA_model/arima_stock_models.pkl'"
      ]
    },
    {
      "cell_type": "code",
      "execution_count": null,
      "id": "v-i6V8Fub5C3",
      "metadata": {
        "id": "v-i6V8Fub5C3"
      },
      "outputs": [],
      "source": [
        "import pickle\n",
        "import joblib\n",
        "# Function to load existing models from a pickle file\n",
        "def load_models(filepath):\n",
        "    try:\n",
        "        with open(filepath, \"rb\") as file:\n",
        "            return  joblib.load(file)\n",
        "    except (FileNotFoundError, EOFError):\n",
        "        return {}"
      ]
    },
    {
      "cell_type": "code",
      "execution_count": null,
      "id": "MCpFHMoHcIdx",
      "metadata": {
        "id": "MCpFHMoHcIdx"
      },
      "outputs": [],
      "source": [
        "models=load_models(models_path)"
      ]
    },
    {
      "cell_type": "code",
      "execution_count": null,
      "id": "LbMtUDw4c8a1",
      "metadata": {
        "id": "LbMtUDw4c8a1"
      },
      "outputs": [],
      "source": [
        "last_trained_len=len(models.keys())"
      ]
    },
    {
      "cell_type": "markdown",
      "id": "x9a4KAccoiV1",
      "metadata": {
        "id": "x9a4KAccoiV1"
      },
      "source": [
        "**Here, we will start training by setting the session size. Note: The session size refers to the number of stocks that we want to train during this session.**"
      ]
    },
    {
      "cell_type": "code",
      "execution_count": null,
      "id": "uBJG-pt_cuya",
      "metadata": {
        "id": "uBJG-pt_cuya"
      },
      "outputs": [],
      "source": [
        "session_size=2\n",
        "end_train_stock_=min(last_trained_len+session_size,len(stock_Symbol_List))"
      ]
    },
    {
      "cell_type": "code",
      "execution_count": null,
      "id": "SiO9jqi3TzF6",
      "metadata": {
        "colab": {
          "base_uri": "https://localhost:8080/"
        },
        "execution": {
          "iopub.execute_input": "2024-02-13T00:32:45.266920Z",
          "iopub.status.busy": "2024-02-13T00:32:45.266044Z",
          "iopub.status.idle": "2024-02-13T00:33:07.060196Z",
          "shell.execute_reply": "2024-02-13T00:33:07.059223Z",
          "shell.execute_reply.started": "2024-02-13T00:32:45.266889Z"
        },
        "id": "SiO9jqi3TzF6",
        "outputId": "29789128-8480-43a1-8fc9-f53013b33713",
        "trusted": true
      },
      "outputs": [
        {
          "name": "stdout",
          "output_type": "stream",
          "text": [
            "Results for stock: 1050\n",
            "Results for stock: 1060\n"
          ]
        }
      ],
      "source": [
        "models={}\n",
        "for stock_symbol in stock_Symbol_List[last_trained_len:end_train_stock_]:\n",
        "  model=train_sarimax_model(df_monthly[stock_symbol])\n",
        "  models[stock_symbol]=model\n",
        "  print(f\"Results for stock: {stock_symbol}\")\n",
        "  # print(model.summary())"
      ]
    },
    {
      "cell_type": "markdown",
      "id": "dxYg83ymfS3Q",
      "metadata": {
        "id": "dxYg83ymfS3Q"
      },
      "source": [
        "**Validating Forecasts**"
      ]
    },
    {
      "cell_type": "markdown",
      "id": "I6bsbqhSfO2j",
      "metadata": {
        "id": "I6bsbqhSfO2j"
      },
      "source": [
        "\n",
        "To assess the accuracy of our forecasts, we compare the predicted Close prices to the actual close prices of the time series. We focus our evaluation on forecasts starting from 2018-12-31 to the end of the available data."
      ]
    },
    {
      "cell_type": "code",
      "execution_count": null,
      "id": "vBYCvlDgfJ7s",
      "metadata": {
        "colab": {
          "base_uri": "https://localhost:8080/"
        },
        "id": "vBYCvlDgfJ7s",
        "outputId": "afe6a0a6-1296-4c3e-9755-5bda48302641"
      },
      "outputs": [
        {
          "data": {
            "text/plain": [
              "dict_keys(['1050', '1060'])"
            ]
          },
          "execution_count": 120,
          "metadata": {},
          "output_type": "execute_result"
        }
      ],
      "source": [
        "models.keys()"
      ]
    },
    {
      "cell_type": "code",
      "execution_count": null,
      "id": "idOBeinhfaBZ",
      "metadata": {
        "colab": {
          "base_uri": "https://localhost:8080/"
        },
        "execution": {
          "iopub.execute_input": "2024-02-13T00:56:48.053569Z",
          "iopub.status.busy": "2024-02-13T00:56:48.052680Z",
          "iopub.status.idle": "2024-02-13T00:56:48.692212Z",
          "shell.execute_reply": "2024-02-13T00:56:48.691344Z",
          "shell.execute_reply.started": "2024-02-13T00:56:48.053529Z"
        },
        "id": "idOBeinhfaBZ",
        "outputId": "9a9c58cc-5b0d-47bd-ce0e-c287996a8a27",
        "trusted": true
      },
      "outputs": [
        {
          "name": "stdout",
          "output_type": "stream",
          "text": [
            "The Mean Squared Error of our forecasts for 1050 is 6.32\n",
            "The Root Mean Squared Error of our forecasts for 1050 is 2.51\n",
            "\n",
            "\n",
            "\n",
            "The Mean Squared Error of our forecasts for 1060 is 5.47\n",
            "The Root Mean Squared Error of our forecasts for 1060 is 2.34\n",
            "\n",
            "\n",
            "\n"
          ]
        }
      ],
      "source": [
        "import numpy as np\n",
        "import pandas as pd\n",
        "import matplotlib.pyplot as plt\n",
        "\n",
        "forecast_start_date = pd.to_datetime('2018-12-31')\n",
        "\n",
        "def evaluate_forecast_accuracy(current_models_stock):\n",
        "    for stock_symbol in current_models_stock.keys():\n",
        "        # Get predictions from the start date to the end of the series\n",
        "        pred = current_models_stock[stock_symbol].get_prediction(start=forecast_start_date, dynamic=False)\n",
        "        pred_ci = pred.conf_int()\n",
        "        y_forecasted = pred.predicted_mean\n",
        "        y_truth = df_monthly[stock_symbol][forecast_start_date:]\n",
        "\n",
        "        # Compute the mean square error\n",
        "        mse = ((y_forecasted - y_truth) ** 2).mean()\n",
        "        print(f'The Mean Squared Error of our forecasts for {stock_symbol} is {round(mse, 2)}')\n",
        "        print(f'The Root Mean Squared Error of our forecasts for {stock_symbol} is {round(np.sqrt(mse), 2)}')\n",
        "        print('\\n\\n')\n",
        "\n",
        "        # Plot\n",
        "        # plt.figure(figsize=(14, 7))\n",
        "        # plt.plot(df_monthly[stock_symbol]['2012':], label='Original', color='blue')\n",
        "        # plt.plot(y_forecasted, label='Forecast', alpha=0.7, color='orange')\n",
        "        # plt.fill_between(pred_ci.index,\n",
        "        #                  pred_ci.iloc[:, 0],\n",
        "        #                  pred_ci.iloc[:, 1], color='k', alpha=0.2)\n",
        "        # plt.xlabel('Date')\n",
        "        # plt.ylabel(f'{stock_symbol} Close Price')\n",
        "        # plt.title(f'Original vs Forecasted Close Price for {stock_symbol}')\n",
        "        # plt.legend()\n",
        "        # plt.show()\n",
        "\n",
        "evaluate_forecast_accuracy(models)\n",
        "\n"
      ]
    },
    {
      "cell_type": "markdown",
      "id": "XpTgGcW3ieEj",
      "metadata": {
        "id": "XpTgGcW3ieEj"
      },
      "source": [
        "The line plot displays the original values alongside the rolling forecast predictions. In general, our forecasts closely match the actual values, demonstrating a consistent upward trend that begins from the start of the year"
      ]
    },
    {
      "cell_type": "markdown",
      "id": "_HvdeYY9qG9b",
      "metadata": {
        "id": "_HvdeYY9qG9b"
      },
      "source": [
        "**forecasting the next n months**"
      ]
    },
    {
      "cell_type": "code",
      "execution_count": null,
      "id": "dJ_Zq7kCrlbJ",
      "metadata": {
        "colab": {
          "base_uri": "https://localhost:8080/"
        },
        "execution": {
          "iopub.execute_input": "2024-02-13T01:10:40.966891Z",
          "iopub.status.busy": "2024-02-13T01:10:40.965966Z",
          "iopub.status.idle": "2024-02-13T01:10:41.625930Z",
          "shell.execute_reply": "2024-02-13T01:10:41.625002Z",
          "shell.execute_reply.started": "2024-02-13T01:10:40.966856Z"
        },
        "id": "dJ_Zq7kCrlbJ",
        "outputId": "5a63ec73-f6ca-4c94-bae8-32af070fdefd",
        "trusted": true
      },
      "outputs": [
        {
          "name": "stdout",
          "output_type": "stream",
          "text": [
            "Close price forecasting values for stock:1050 are\n",
            " 2021-06-30    36.532546\n",
            "2021-07-31    36.487514\n",
            "2021-08-31    36.616779\n",
            "2021-09-30    36.486196\n",
            "2021-10-31    35.924960\n",
            "2021-11-30    36.564045\n",
            "2021-12-31    36.543614\n",
            "2022-01-31    36.862177\n",
            "2022-02-28    36.625794\n",
            "Freq: M, Name: predicted_mean, dtype: float64\n",
            "Close price forecasting values for stock:1060 are\n",
            " 2021-06-30    29.561290\n",
            "2021-07-31    29.607733\n",
            "2021-08-31    30.014670\n",
            "2021-09-30    29.953410\n",
            "2021-10-31    29.465829\n",
            "2021-11-30    30.020086\n",
            "2021-12-31    29.996266\n",
            "2022-01-31    30.351336\n",
            "2022-02-28    30.354897\n",
            "Freq: M, Name: predicted_mean, dtype: float64\n"
          ]
        }
      ],
      "source": [
        "\n",
        "\n",
        "def forecasting_future_month(stock_models, months):\n",
        "    for stock_symbol in stock_models.keys():\n",
        "        pred_uc = stock_models[stock_symbol].get_forecast(steps=months)\n",
        "        pred_ci = pred_uc.conf_int()\n",
        "        print(f'Close price forecasting values for stock:{stock_symbol} are\\n', pred_uc.predicted_mean)\n",
        "        # ax = df_monthly[stock_symbol].plot(label='Observed', figsize=(14, 7))\n",
        "        # pred_uc.predicted_mean.plot(ax=ax, label='Forecast')\n",
        "        # ax.fill_between(pred_ci.index,\n",
        "        #                 pred_ci.iloc[:, 0],\n",
        "        #                 pred_ci.iloc[:, 1], color='k', alpha=.25)\n",
        "        # ax.set_xlabel('Date')\n",
        "        # ax.set_ylabel('Close Price')\n",
        "        # ax.set_title(f'Forecast for Stock Symbol {stock_symbol}')\n",
        "        # plt.legend()\n",
        "        # plt.show()\n",
        "forecasting_future_month(models, 9)\n"
      ]
    },
    {
      "cell_type": "markdown",
      "id": "G72nNnQBqG9d",
      "metadata": {
        "id": "G72nNnQBqG9d"
      },
      "source": [
        "**Now we will append the current model's training with the last.**"
      ]
    },
    {
      "cell_type": "code",
      "execution_count": null,
      "id": "zjCQaKhaPaSq",
      "metadata": {
        "id": "zjCQaKhaPaSq"
      },
      "outputs": [],
      "source": [
        "import pickle\n",
        "import joblib\n",
        "# Function to load existing models from a pickle file\n",
        "def load_models(filepath):\n",
        "    try:\n",
        "        with open(filepath, \"rb\") as file:\n",
        "            return  joblib.load(file)\n",
        "    except (FileNotFoundError, EOFError):\n",
        "        return {}  # If the file is not found or empty, return an empty dict\n"
      ]
    },
    {
      "cell_type": "code",
      "execution_count": null,
      "id": "xlaim-t6PvjN",
      "metadata": {
        "id": "xlaim-t6PvjN"
      },
      "outputs": [],
      "source": [
        "def save_models(models, filepath):\n",
        "    existing_models = load_models(filepath)  # Load any existing models\n",
        "    existing_models.update(models)  # Update with new models\n",
        "    with open(filepath, \"wb\") as file:\n",
        "        # pickle.dump(existing_models, file)\n",
        "        joblib.dump(existing_models, file, compress=3)\n",
        "         # Save the updated model dictionary"
      ]
    },
    {
      "cell_type": "code",
      "execution_count": null,
      "id": "NzRxCoytQ7l_",
      "metadata": {
        "id": "NzRxCoytQ7l_"
      },
      "outputs": [],
      "source": [
        "save_models(models,models_path)"
      ]
    },
    {
      "cell_type": "markdown",
      "id": "OLy8FGKBqG9f",
      "metadata": {
        "id": "OLy8FGKBqG9f"
      },
      "source": [
        "# Now we can Load all stock files for evaluate accuracy and forecasting,\n",
        "\n"
      ]
    },
    {
      "cell_type": "code",
      "execution_count": null,
      "id": "p7trT8iwR2IQ",
      "metadata": {
        "id": "p7trT8iwR2IQ"
      },
      "outputs": [],
      "source": [
        "saved_model_path='/content/drive/MyDrive/ARIMA_model/arima_stock_models.pkl'"
      ]
    },
    {
      "cell_type": "code",
      "execution_count": null,
      "id": "PZM2NtekqG9f",
      "metadata": {
        "execution": {
          "iopub.execute_input": "2024-02-13T01:27:39.204705Z",
          "iopub.status.busy": "2024-02-13T01:27:39.203788Z",
          "iopub.status.idle": "2024-02-13T01:27:39.264344Z",
          "shell.execute_reply": "2024-02-13T01:27:39.263568Z",
          "shell.execute_reply.started": "2024-02-13T01:27:39.204669Z"
        },
        "id": "PZM2NtekqG9f",
        "trusted": true
      },
      "outputs": [],
      "source": [
        "\n",
        "# Load the saved models from the file\n",
        "with open(saved_model_path, \"rb\") as file:\n",
        "    last_all_model_train = joblib.load(file)\n"
      ]
    },
    {
      "cell_type": "code",
      "execution_count": null,
      "id": "cKuo4CMlSDj9",
      "metadata": {
        "colab": {
          "base_uri": "https://localhost:8080/"
        },
        "id": "cKuo4CMlSDj9",
        "outputId": "4e66e741-1b20-45cc-aa78-20cbdf695b65"
      },
      "outputs": [
        {
          "data": {
            "text/plain": [
              "dict_keys(['1010', '1020', '1030', '1050', '1060'])"
            ]
          },
          "execution_count": 137,
          "metadata": {},
          "output_type": "execute_result"
        }
      ],
      "source": [
        "last_all_model_train.keys()"
      ]
    },
    {
      "cell_type": "code",
      "execution_count": null,
      "id": "br-eeDfboBQj",
      "metadata": {
        "colab": {
          "base_uri": "https://localhost:8080/"
        },
        "id": "br-eeDfboBQj",
        "outputId": "d24eaa39-6f81-4845-ae75-9f073418a73e"
      },
      "outputs": [
        {
          "name": "stdout",
          "output_type": "stream",
          "text": [
            "The Mean Squared Error of our forecasts for 1010 is 2.71\n",
            "The Root Mean Squared Error of our forecasts for 1010 is 1.65\n",
            "\n",
            "\n",
            "\n",
            "The Mean Squared Error of our forecasts for 1020 is 0.88\n",
            "The Root Mean Squared Error of our forecasts for 1020 is 0.94\n",
            "\n",
            "\n",
            "\n",
            "The Mean Squared Error of our forecasts for 1030 is 1.12\n",
            "The Root Mean Squared Error of our forecasts for 1030 is 1.06\n",
            "\n",
            "\n",
            "\n",
            "The Mean Squared Error of our forecasts for 1050 is 6.32\n",
            "The Root Mean Squared Error of our forecasts for 1050 is 2.51\n",
            "\n",
            "\n",
            "\n",
            "The Mean Squared Error of our forecasts for 1060 is 5.47\n",
            "The Root Mean Squared Error of our forecasts for 1060 is 2.34\n",
            "\n",
            "\n",
            "\n"
          ]
        }
      ],
      "source": [
        "evaluate_forecast_accuracy(last_all_model_train)"
      ]
    },
    {
      "cell_type": "code",
      "execution_count": null,
      "id": "ueMwEYzfqG9g",
      "metadata": {
        "colab": {
          "base_uri": "https://localhost:8080/"
        },
        "execution": {
          "iopub.execute_input": "2024-02-13T01:19:21.683752Z",
          "iopub.status.busy": "2024-02-13T01:19:21.683100Z",
          "iopub.status.idle": "2024-02-13T01:19:33.162577Z",
          "shell.execute_reply": "2024-02-13T01:19:33.161660Z",
          "shell.execute_reply.started": "2024-02-13T01:19:21.683720Z"
        },
        "id": "ueMwEYzfqG9g",
        "outputId": "f84cd9f2-2cd6-4dc3-cc85-499e963d9281",
        "trusted": true
      },
      "outputs": [
        {
          "name": "stdout",
          "output_type": "stream",
          "text": [
            "Please enter the stock symbol: 1020\n",
            "Close price forecasting values: 2021-06-30    9.435003\n",
            "2021-07-31    5.987253\n",
            "2021-08-31    4.582000\n",
            "2021-09-30    3.746155\n",
            "2021-10-31    3.173220\n",
            "2021-11-30    2.781488\n",
            "2021-12-31    2.547639\n",
            "2022-01-31    2.369804\n",
            "2022-02-28    2.242441\n",
            "2022-03-31    2.084825\n",
            "Freq: M, Name: tvalues, dtype: float64\n"
          ]
        }
      ],
      "source": [
        "input_stock = input('Please enter the stock symbol: ')\n",
        "for stock_symbol in last_all_model_train.keys():\n",
        "    if stock_symbol == input_stock:\n",
        "        pred_uc = models[stock_symbol].get_forecast(steps=10)#steps=10 ,meaning 10 months future forecasting\n",
        "        print('Close price forecasting values:', pred_uc.tvalues)\n"
      ]
    }
  ],
  "metadata": {
    "accelerator": "TPU",
    "colab": {
      "provenance": []
    },
    "kaggle": {
      "accelerator": "gpu",
      "dataSources": [
        {
          "datasetId": 4391330,
          "sourceId": 7541088,
          "sourceType": "datasetVersion"
        },
        {
          "datasetId": 4421746,
          "sourceId": 7596461,
          "sourceType": "datasetVersion"
        }
      ],
      "dockerImageVersionId": 30648,
      "isGpuEnabled": true,
      "isInternetEnabled": true,
      "language": "python",
      "sourceType": "notebook"
    },
    "kernelspec": {
      "display_name": "Python 3",
      "language": "python",
      "name": "python3"
    },
    "language_info": {
      "codemirror_mode": {
        "name": "ipython",
        "version": 3
      },
      "file_extension": ".py",
      "mimetype": "text/x-python",
      "name": "python",
      "nbconvert_exporter": "python",
      "pygments_lexer": "ipython3",
      "version": "3.12.3"
    }
  },
  "nbformat": 4,
  "nbformat_minor": 5
}
